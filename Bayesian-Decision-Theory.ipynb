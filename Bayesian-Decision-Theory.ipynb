{
 "cells": [
  {
   "cell_type": "markdown",
   "metadata": {},
   "source": [
    "# Bayesian Decision Theory "
   ]
  },
  {
   "cell_type": "code",
   "execution_count": 1,
   "metadata": {},
   "outputs": [],
   "source": [
    "import numpy as np\n",
    "import matplotlib.pyplot as plt\n",
    "import math\n",
    "import random\n",
    "import sys\n",
    "\n",
    "import scipy.stats"
   ]
  },
  {
   "cell_type": "markdown",
   "metadata": {},
   "source": [
    "## Bayesian Decision Rules for Classification"
   ]
  },
  {
   "cell_type": "markdown",
   "metadata": {},
   "source": [
    "Classification problem: Discriminate between healthy people and people with anemia, where we assume that 90% of population is healthy, and 10% has anemia. We also assume that only one variable(feature x) impacts the class of the person (c1=healthy, c2=anemia), red blood cell count (in millions). Data likelihood given class information is as follows:\n",
    " - $(x|c1)\\sim N(\\mu=5.5, \\sigma^2 = 0.75^2)$\n",
    " - $(x|c2)\\sim N(\\mu=3.0, \\sigma^2 = 1.4^2)$\n",
    " \n",
    "Given the observation $x=3.5$, what is the class of the patient?"
   ]
  },
  {
   "cell_type": "markdown",
   "metadata": {},
   "source": [
    "**Prior class probabilities**"
   ]
  },
  {
   "cell_type": "code",
   "execution_count": 2,
   "metadata": {},
   "outputs": [],
   "source": [
    "pi_1 = 0.9\n",
    "pi_2 = 0.1"
   ]
  },
  {
   "cell_type": "markdown",
   "metadata": {},
   "source": [
    "**Likelihood**"
   ]
  },
  {
   "cell_type": "code",
   "execution_count": 3,
   "metadata": {},
   "outputs": [],
   "source": [
    "from scipy.stats import norm\n",
    "\n",
    "def plot_normal(gloc, gscale):\n",
    "    x = np.linspace(0,8,1000)\n",
    "    y = norm.pdf(x, loc=gloc, scale=gscale)    # for example\n",
    "    plt.plot(x,y)\n",
    "    axes = plt.gca()\n",
    "    axes.set_ylim([0,0.6])\n",
    "    plt.show()"
   ]
  },
  {
   "cell_type": "code",
   "execution_count": 4,
   "metadata": {},
   "outputs": [],
   "source": [
    "# assume normal distribution\n",
    "x_c1_mu = 5.5\n",
    "x_c1_sigma = 0.75\n",
    "x_c2_mu = 3.0\n",
    "x_c2_sigma = 1.4\n",
    "x_obs = 3.5"
   ]
  },
  {
   "cell_type": "code",
   "execution_count": 5,
   "metadata": {},
   "outputs": [
    {
     "data": {
      "image/png": "[encoded data removed]",
      "text/plain": [
       "<Figure size 432x288 with 1 Axes>"
      ]
     },
     "metadata": {
      "needs_background": "light"
     },
     "output_type": "display_data"
    }
   ],
   "source": [
    "x = np.linspace(0,8,1000)\n",
    "y1 = norm.pdf(x, loc=x_c1_mu, scale=x_c1_sigma)\n",
    "y2 = norm.pdf(x, loc=x_c2_mu, scale=x_c2_sigma)\n",
    "plt.plot(x,y1)\n",
    "plt.plot(x,y2)\n",
    "plt.show()"
   ]
  },
  {
   "cell_type": "markdown",
   "metadata": {},
   "source": [
    "### Finding a decision boundary"
   ]
  },
  {
   "cell_type": "code",
   "execution_count": 6,
   "metadata": {},
   "outputs": [],
   "source": [
    "# iterate over search_range to find a decision boundary at which class value changes (e.g. from c2 to c1)\n",
    "def find_decision_boundery( c1_mu , c1_sigma , c1_prior , c2_mu , c2_sigma , c2_prior ,  obs_range ):    \n",
    "    decision_boundary = 0    \n",
    "    for obs_x in obs_range:\n",
    "      \n",
    "        #P(x|C1).P(C1) or likelihood\n",
    "        c1_pdf = scipy.stats.norm(c1_mu, c1_sigma).pdf(obs_x)\n",
    "        c1_posterior = np.round( c1_pdf * c1_prior , 3)\n",
    "        \n",
    "        #P(x|C2).P(C2) or likelihood\n",
    "        c2_pdf = scipy.stats.norm(c2_mu, c2_sigma).pdf(obs_x)\n",
    "        c2_posterior = np.round( c2_pdf * c2_prior , 3)\n",
    "        \n",
    "        # P(C1|x) > P(C2|x) ~ P(x|C1).P(C1) > P(x|C2).P(C2)\n",
    "        if(c1_posterior >= c2_posterior):\n",
    "            decision_boundary = obs_x\n",
    "            break\n",
    "            \n",
    "    return decision_boundary"
   ]
  },
  {
   "cell_type": "markdown",
   "metadata": {},
   "source": [
    "### Error calculation"
   ]
  },
  {
   "cell_type": "code",
   "execution_count": 7,
   "metadata": {},
   "outputs": [],
   "source": [
    "# iterate over search_range to find min error and report the corresponding x_obs value\n",
    "# see lecture notes for error formula\n",
    "def calculate_error (c1_mu , c1_sigma , c1_prior , c2_mu , c2_sigma , c2_prior ,  obs_range):\n",
    "    \n",
    "    min_error = 1\n",
    "    min_obs_x = 0\n",
    "    \n",
    "    for obs_x in obs_range:\n",
    "        new_error = 0\n",
    "        \n",
    "        c1_cdf =scipy.stats.norm(c1_mu, c1_sigma).cdf(obs_x)\n",
    "        new_error += (c1_cdf * c1_prior)\n",
    "        \n",
    "        c2_cdf =  scipy.stats.norm(c2_mu, c2_sigma).cdf(obs_x)\n",
    "        new_error += (1 - c2_cdf) * c2_prior \n",
    " \n",
    "        if new_error < min_error :                                 \n",
    "            min_error = new_error\n",
    "            min_obs_x = obs_x\n",
    "    return np.round(min_error,3), min_obs_x\n",
    "    "
   ]
  },
  {
   "cell_type": "code",
   "execution_count": 8,
   "metadata": {},
   "outputs": [
    {
     "name": "stdout",
     "output_type": "stream",
     "text": [
      "Decision Boundary:  3.68\n",
      "Min error: 0.038\n",
      "Value X: 3.68\n"
     ]
    }
   ],
   "source": [
    "# generate range of values to do line search over the possible values of x_obs\n",
    "search_range = np.arange(0.0, 8.0, 0.01)\n",
    "decision_boundary = find_decision_boundery( x_c1_mu, x_c1_sigma, pi_1, x_c2_mu, x_c2_sigma, pi_2, search_range)\n",
    "error, min_x  = calculate_error( x_c1_mu, x_c1_sigma, pi_1, x_c2_mu, x_c2_sigma, pi_2, search_range)\n",
    "print(\"Decision Boundary: \",decision_boundary)\n",
    "print(\"Min error:\", error)\n",
    "print(\"Value X:\", min_x)"
   ]
  },
  {
   "cell_type": "markdown",
   "metadata": {},
   "source": [
    "## Discriminant Functions "
   ]
  },
  {
   "cell_type": "markdown",
   "metadata": {},
   "source": [
    "$\\textbf{(a) Generate a toy classification problem dataset for the cartesian coordinate system with two classes (K=2).}$\n",
    "1. Pick two random cluster center coordinates.\n",
    "2. For each cluster center, generate 20 data points (samples) by adding random noise values to cluster center values.\n",
    "3. Store dataset X along with ground truth label values for each sample.\n",
    "4. Shuffle the dataset (randomize the order of samples in your dataset)."
   ]
  },
  {
   "cell_type": "markdown",
   "metadata": {},
   "source": [
    "**1. Pick Centers**"
   ]
  },
  {
   "cell_type": "code",
   "execution_count": 9,
   "metadata": {},
   "outputs": [],
   "source": [
    "center1_x = 8\n",
    "center1_y = 10\n",
    "\n",
    "center2_x = 9\n",
    "center2_y = 11"
   ]
  },
  {
   "cell_type": "markdown",
   "metadata": {},
   "source": [
    "**Place centers into a dictionary for later**"
   ]
  },
  {
   "cell_type": "code",
   "execution_count": 10,
   "metadata": {},
   "outputs": [
    {
     "data": {
      "text/plain": [
       "{(8, 10): 'class1', (9, 11): 'class2'}"
      ]
     },
     "execution_count": 10,
     "metadata": {},
     "output_type": "execute_result"
    }
   ],
   "source": [
    "centers_dict = {}\n",
    "centers_dict[(center1_x,center1_y)] = \"class1\"\n",
    "centers_dict[(center2_x,center2_y)] = \"class2\"\n",
    "centers_dict"
   ]
  },
  {
   "cell_type": "markdown",
   "metadata": {},
   "source": [
    "**2. Generate 20 data points as noise around each center**"
   ]
  },
  {
   "cell_type": "code",
   "execution_count": 11,
   "metadata": {},
   "outputs": [],
   "source": [
    "np.random.seed(0)\n",
    "sample_x_1 = np.random.uniform(center1_x-1, center1_x+1, 20)\n",
    "sample_x_2 = np.random.uniform(center2_x-1, center2_x+1, 20)\n",
    "\n",
    "sample_y_1 = np.random.uniform(center1_y-1, center1_y+1, 20)\n",
    "sample_y_2 = np.random.uniform(center2_y-1, center2_y+1, 20)"
   ]
  },
  {
   "cell_type": "markdown",
   "metadata": {},
   "source": [
    "**3. Place dataset with ground truth **"
   ]
  },
  {
   "cell_type": "code",
   "execution_count": 12,
   "metadata": {},
   "outputs": [],
   "source": [
    "data_dict = {}\n",
    "\n",
    "for i in range(0,20):\n",
    "    new_tuple = (sample_x_1[i],sample_y_1[i])\n",
    "    data_dict[new_tuple] = \"class1\"\n",
    "    \n",
    "for i in range(0,20):\n",
    "    new_tuple = (sample_x_2[i],sample_y_2[i])\n",
    "    data_dict[new_tuple] = \"class2\""
   ]
  },
  {
   "cell_type": "markdown",
   "metadata": {},
   "source": [
    "**4. shuffle the data points **"
   ]
  },
  {
   "cell_type": "code",
   "execution_count": 13,
   "metadata": {},
   "outputs": [],
   "source": [
    "datapoints = list(data_dict.keys())\n",
    "random.shuffle(datapoints)"
   ]
  },
  {
   "cell_type": "markdown",
   "metadata": {},
   "source": [
    "$\\textbf{(b) Assuming P(C_i | x) is correlated with Euclidean distance between the class center and data point.}$\n",
    "1. Calculate prediction g(x) for each data point.\n",
    "2. Report correct classification and misclassification counts."
   ]
  },
  {
   "cell_type": "markdown",
   "metadata": {},
   "source": [
    "**1. Calculate prediction g(x) for each data point.**"
   ]
  },
  {
   "cell_type": "code",
   "execution_count": 14,
   "metadata": {},
   "outputs": [],
   "source": [
    "def  euclidean_distance(center_x , center_y , point_x , point_y ):\n",
    "    distance_x = math.pow(point_x - center_x ,2)\n",
    "    distance_y = math.pow(point_y - center_y ,2)\n",
    "    distance = math.sqrt(distance_x + distance_y)\n",
    "    return np.round(distance, 3)\n",
    "\n",
    "\n",
    "def class_prediction(centers_dict , datapoint):\n",
    "   \n",
    "    current_distance = sys.maxsize\n",
    "    current_class = \"\"\n",
    "    \n",
    "    for center , value in centers_dict.items():\n",
    "        distance = euclidean_distance(center[0] , center[1], datapoint[0], datapoint[1])\n",
    "        if distance < current_distance:\n",
    "            current_distance = distance\n",
    "            current_class = value\n",
    "            \n",
    "    return current_class"
   ]
  },
  {
   "cell_type": "code",
   "execution_count": 15,
   "metadata": {},
   "outputs": [],
   "source": [
    "import sys\n",
    "\n",
    "predicted_dic = {}\n",
    "for point in datapoints:\n",
    "    pre_class = class_prediction(centers_dict , point)\n",
    "    predicted_dic[point] = pre_class\n"
   ]
  },
  {
   "cell_type": "markdown",
   "metadata": {},
   "source": [
    "**2. Report on correct and incorrect classifications**"
   ]
  },
  {
   "cell_type": "code",
   "execution_count": 16,
   "metadata": {},
   "outputs": [
    {
     "name": "stdout",
     "output_type": "stream",
     "text": [
      "38 correct discriminent of 40 data points\n"
     ]
    }
   ],
   "source": [
    "n = len(predicted_dic)\n",
    "correct = 0 \n",
    "\n",
    "for i in predicted_dic:\n",
    "    if data_dict[i] == predicted_dic[i]:\n",
    "        correct += 1\n",
    "    \n",
    "    \n",
    "print(\"{} correct discriminent of {} data points\".format(correct, n))"
   ]
  },
  {
   "cell_type": "markdown",
   "metadata": {},
   "source": [
    "$\\textbf{(c) Plot dataset along with predictions.}$"
   ]
  },
  {
   "cell_type": "markdown",
   "metadata": {},
   "source": [
    "1. Plot color coded cluster centers.\n",
    "2. Plot generated data points, where color of the data points represent predicted cluster."
   ]
  },
  {
   "cell_type": "code",
   "execution_count": 17,
   "metadata": {},
   "outputs": [
    {
     "data": {
      "image/png": "[encoded data removed]",
      "text/plain": [
       "<Figure size 432x288 with 1 Axes>"
      ]
     },
     "metadata": {
      "needs_background": "light"
     },
     "output_type": "display_data"
    },
    {
     "data": {
      "image/png": "[encoded data removed]",
      "text/plain": [
       "<Figure size 432x288 with 1 Axes>"
      ]
     },
     "metadata": {
      "needs_background": "light"
     },
     "output_type": "display_data"
    }
   ],
   "source": [
    "\n",
    "x =[]\n",
    "y=[]\n",
    "centers =[]\n",
    "for  item , value in predicted_dic.items():\n",
    "    x.append(item[0])\n",
    "    y.append(item[1])\n",
    "    centers.append( 'r' if value == 'class1' else 'b' )\n",
    "\n",
    "plt.plot(center1_x,center1_y,\"ro\" , markersize= 8)\n",
    "plt.plot(center2_x,center2_y,\"bo\" , markersize= 8)\n",
    "plt.scatter(x,y, c= centers , s= 10)\n",
    "plt.show()\n",
    "\n",
    "\n",
    "xa =[]\n",
    "ya =[]\n",
    "centersa =[]\n",
    "for  item , value in data_dict.items():\n",
    "    xa.append(item[0])\n",
    "    ya.append(item[1])\n",
    "    centersa.append( 'r' if value == 'class1' else 'b' )\n",
    "    \n",
    "plt.plot(center1_x,center1_y,\"ro\" , markersize= 8)\n",
    "plt.plot(center2_x,center2_y,\"bo\" , markersize= 8)\n",
    "plt.scatter(xa,ya, c= centersa , s= 10)\n",
    "plt.show()"
   ]
  }
 ],
 "metadata": {
  "kernelspec": {
   "display_name": "Python 3",
   "language": "python",
   "name": "python3"
  },
  "language_info": {
   "codemirror_mode": {
    "name": "ipython",
    "version": 3
   },
   "file_extension": ".py",
   "mimetype": "text/x-python",
   "name": "python",
   "nbconvert_exporter": "python",
   "pygments_lexer": "ipython3",
   "version": "3.7.3"
  }
 },
 "nbformat": 4,
 "nbformat_minor": 2
}
