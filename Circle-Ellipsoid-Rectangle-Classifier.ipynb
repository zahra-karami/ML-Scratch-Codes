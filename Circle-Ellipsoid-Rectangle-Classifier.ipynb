{
 "cells": [
  {
   "cell_type": "markdown",
   "metadata": {},
   "source": [
    "# Supervised Learning"
   ]
  },
  {
   "cell_type": "markdown",
   "metadata": {},
   "source": [
    "## Circle/Ellipsoid/Rectangle Classifier"
   ]
  },
  {
   "cell_type": "code",
   "execution_count": 1,
   "metadata": {},
   "outputs": [],
   "source": [
    "import numpy as np\n",
    "import pandas as pd\n",
    "import math\n",
    "import random"
   ]
  },
  {
   "cell_type": "code",
   "execution_count": 2,
   "metadata": {},
   "outputs": [],
   "source": [
    "random.seed(0)\n",
    "\n",
    "# plotting\n",
    "import matplotlib.pyplot as plt\n",
    "import seaborn as sns\n",
    "from sklearn.metrics import accuracy_score\n",
    "from sklearn.linear_model import LinearRegression\n"
   ]
  },
  {
   "cell_type": "markdown",
   "metadata": {},
   "source": [
    "### Generate Data"
   ]
  },
  {
   "cell_type": "code",
   "execution_count": 3,
   "metadata": {},
   "outputs": [],
   "source": [
    "# function to generate data points for family car example\n",
    "# the dataset contain car price and engine power and car class (family car:[0,1])\n",
    "\n",
    "def generateCarTypeData(gnPoints):\n",
    "    \n",
    "    engine_power_all = []\n",
    "    price_all = []\n",
    "    famCar_class = []\n",
    "\n",
    "    for i in range(gnPoints):\n",
    "        rnd_val = np.random.random()\n",
    "        rnd_val_e = np.random.random()\n",
    "        rnd_val_p = np.random.random()\n",
    "        if(rnd_val < 0.5):\n",
    "            famCar_class.append(0)\n",
    "            tmp_eng_power = np.random.randint(low=50, high=240)\n",
    "            tmp_price = np.random.randint(low=10, high=100)\n",
    "\n",
    "            while (120<tmp_eng_power<180 and 25<tmp_price<50):\n",
    "                tmp_eng_power = np.random.randint(low=50, high=240)\n",
    "                tmp_price = np.random.randint(low=10, high=100)\n",
    "\n",
    "            engine_power_all.append(tmp_eng_power)\n",
    "            price_all.append(tmp_price)\n",
    "        else:\n",
    "            famCar_class.append(1)\n",
    "            engine_power_all.append(np.random.randint(low=120, high=180))\n",
    "            price_all.append(np.random.randint(low=25, high=50))\n",
    "\n",
    "    tmp_df = pd.DataFrame({\n",
    "        \"e\":engine_power_all,\n",
    "        \"p\":price_all,\n",
    "        \"c\":famCar_class\n",
    "    })\n",
    "    \n",
    "    return tmp_df\n"
   ]
  },
  {
   "cell_type": "code",
   "execution_count": 4,
   "metadata": {},
   "outputs": [
    {
     "data": {
      "text/html": [
       "<div>\n",
       "<style scoped>\n",
       "    .dataframe tbody tr th:only-of-type {\n",
       "        vertical-align: middle;\n",
       "    }\n",
       "\n",
       "    .dataframe tbody tr th {\n",
       "        vertical-align: top;\n",
       "    }\n",
       "\n",
       "    .dataframe thead th {\n",
       "        text-align: right;\n",
       "    }\n",
       "</style>\n",
       "<table border=\"1\" class=\"dataframe\">\n",
       "  <thead>\n",
       "    <tr style=\"text-align: right;\">\n",
       "      <th></th>\n",
       "      <th>e</th>\n",
       "      <th>p</th>\n",
       "      <th>c</th>\n",
       "    </tr>\n",
       "  </thead>\n",
       "  <tbody>\n",
       "    <tr>\n",
       "      <th>0</th>\n",
       "      <td>165</td>\n",
       "      <td>42</td>\n",
       "      <td>1</td>\n",
       "    </tr>\n",
       "    <tr>\n",
       "      <th>1</th>\n",
       "      <td>96</td>\n",
       "      <td>63</td>\n",
       "      <td>0</td>\n",
       "    </tr>\n",
       "    <tr>\n",
       "      <th>2</th>\n",
       "      <td>121</td>\n",
       "      <td>27</td>\n",
       "      <td>1</td>\n",
       "    </tr>\n",
       "    <tr>\n",
       "      <th>3</th>\n",
       "      <td>70</td>\n",
       "      <td>99</td>\n",
       "      <td>0</td>\n",
       "    </tr>\n",
       "    <tr>\n",
       "      <th>4</th>\n",
       "      <td>169</td>\n",
       "      <td>43</td>\n",
       "      <td>1</td>\n",
       "    </tr>\n",
       "  </tbody>\n",
       "</table>\n",
       "</div>"
      ],
      "text/plain": [
       "     e   p  c\n",
       "0  165  42  1\n",
       "1   96  63  0\n",
       "2  121  27  1\n",
       "3   70  99  0\n",
       "4  169  43  1"
      ]
     },
     "execution_count": 4,
     "metadata": {},
     "output_type": "execute_result"
    }
   ],
   "source": [
    "my_df = generateCarTypeData(gnPoints=40)\n",
    "my_df.head()"
   ]
  },
  {
   "cell_type": "markdown",
   "metadata": {},
   "source": [
    "A scatter plot of data points"
   ]
  },
  {
   "cell_type": "code",
   "execution_count": 5,
   "metadata": {},
   "outputs": [
    {
     "data": {
      "text/plain": [
       "<matplotlib.axes._subplots.AxesSubplot at 0x224956e3dd8>"
      ]
     },
     "execution_count": 5,
     "metadata": {},
     "output_type": "execute_result"
    },
    {
     "data": {
      "image/png": "[encoded data removed]",
      "text/plain": [
       "<Figure size 432x288 with 1 Axes>"
      ]
     },
     "metadata": {
      "needs_background": "light"
     },
     "output_type": "display_data"
    }
   ],
   "source": [
    "#plot data distribution\n",
    "sns.scatterplot(x=\"e\", y=\"p\", hue=\"c\", data=my_df, palette=\"colorblind\")"
   ]
  },
  {
   "cell_type": "markdown",
   "metadata": {},
   "source": [
    "### Implement a function that obtaining the data set boundaries"
   ]
  },
  {
   "cell_type": "code",
   "execution_count": 6,
   "metadata": {},
   "outputs": [],
   "source": [
    "def getRange_familyCar(gdf):\n",
    "    \n",
    "    min_price = gdf[gdf['c']==1]['p'].min()\n",
    "    max_price = gdf[gdf['c']==1]['p'].max()\n",
    "    min_engine = gdf[gdf['c']==1]['e'].min()\n",
    "    max_engine = gdf[gdf['c']==1]['e'].max()\n",
    "       \n",
    "    min_price_large = gdf[(gdf['c'] == 0) & (gdf['p'] < min_price)]['p'].max()\n",
    "    max_price_large = gdf[(gdf['c'] == 0) & (gdf['p'] > max_price)]['p'].min()\n",
    "    min_engine_large = gdf[(gdf['c'] == 0) & (gdf['e'] < min_engine)]['e'].max()\n",
    "    max_engine_large = gdf[(gdf['c'] == 0) & (gdf['e'] > max_engine)]['e'].min()\n",
    "    \n",
    "    min_price = (min_price + min_price_large) / 2\n",
    "    max_price = (max_price + max_price_large) / 2\n",
    "    min_engine = (min_engine + min_engine_large) / 2\n",
    "    max_engine = (max_engine + max_engine_large) / 2\n",
    "    \n",
    "    return min_price, max_price, min_engine, max_engine"
   ]
  },
  {
   "cell_type": "code",
   "execution_count": 7,
   "metadata": {},
   "outputs": [
    {
     "name": "stdout",
     "output_type": "stream",
     "text": [
      "rectangle 19.5 49.0 120.0 204.0\n"
     ]
    }
   ],
   "source": [
    "min_p, max_p, min_e, max_e = getRange_familyCar(my_df)\n",
    "print(\"rectangle\",min_p, max_p, min_e, max_e)"
   ]
  },
  {
   "cell_type": "markdown",
   "metadata": {},
   "source": [
    "### Rectangle Classifier"
   ]
  },
  {
   "cell_type": "code",
   "execution_count": 8,
   "metadata": {},
   "outputs": [],
   "source": [
    "def classify_instance_byRectangle(min_price, max_price, min_engine, max_engine, gdf_instance):\n",
    "    if(min_engine<gdf_instance.e<max_engine and min_price<gdf_instance.p<max_price):\n",
    "        return 1\n",
    "    else:\n",
    "        return 0"
   ]
  },
  {
   "cell_type": "markdown",
   "metadata": {},
   "source": [
    "### Circle Classifier"
   ]
  },
  {
   "cell_type": "code",
   "execution_count": 9,
   "metadata": {},
   "outputs": [],
   "source": [
    "def classify_instance_byCircle(min_price, max_price, min_engine, max_engine, gdf_instance):\n",
    "    ycenter = (min_price + max_price) / 2\n",
    "    xcenter = (min_engine + max_engine) / 2\n",
    "    r = math.sqrt(math.pow((max_price - ycenter),2) + math.pow((max_engine - xcenter),2))\n",
    "    x = gdf_instance['e']\n",
    "    y = gdf_instance['p']\n",
    "    \n",
    "    term  = math.pow((x - xcenter), 2) + math.pow((y - ycenter), 2)\n",
    "    if math.sqrt(term) <= r :\n",
    "        return 1\n",
    "    else:\n",
    "        return 0"
   ]
  },
  {
   "cell_type": "markdown",
   "metadata": {},
   "source": [
    "### Ellipsoid Classifier"
   ]
  },
  {
   "cell_type": "code",
   "execution_count": 10,
   "metadata": {},
   "outputs": [],
   "source": [
    "def classify_instance_byEllipsoid(min_price, max_price, min_engine, max_engine, gdf_instance):\n",
    "    ycenter = (min_price + max_price) / 2\n",
    "    xcenter = (min_engine + max_engine) / 2\n",
    "    rx = math.sqrt(math.pow((max_engine - xcenter),2))\n",
    "    ry = math.sqrt(math.pow((max_price - ycenter),2))\n",
    "    x = gdf_instance['e']\n",
    "    y = gdf_instance['p']\n",
    "    \n",
    "    first_term  = math.pow((x - xcenter),2) / math.pow(rx,2) \n",
    "    second_term  = math.pow((y - ycenter),2) / math.pow(ry,2) \n",
    "    \n",
    "    if first_term + second_term <= 1:\n",
    "        return 1\n",
    "    else:\n",
    "        return 0"
   ]
  },
  {
   "cell_type": "markdown",
   "metadata": {},
   "source": [
    "### Generate Test Set"
   ]
  },
  {
   "cell_type": "code",
   "execution_count": 11,
   "metadata": {},
   "outputs": [],
   "source": [
    "test_df = generateCarTypeData(gnPoints=30) # you might want to try different test set sizes\n",
    "test_labels = np.array(test_df.c)"
   ]
  },
  {
   "cell_type": "markdown",
   "metadata": {},
   "source": [
    "accuracy when **rectangle** function is used for classifying the instances in the test set"
   ]
  },
  {
   "cell_type": "code",
   "execution_count": 12,
   "metadata": {},
   "outputs": [
    {
     "name": "stdout",
     "output_type": "stream",
     "text": [
      "[1 0 1 0 1 0 0 0 0 0 0 1 0 0 0 0 0 1 1 1 1 1 1 1 1 0 0 0 0 1]\n",
      "[1 0 1 0 1 1 0 0 0 0 0 1 0 0 0 0 1 1 1 1 1 1 1 1 1 0 0 1 0 1]\n",
      "d_accuracy 0.9\n"
     ]
    }
   ],
   "source": [
    "test_predict = []\n",
    "for i in range(len(test_df)):\n",
    "    result = classify_instance_byRectangle(min_p, max_p, min_e, max_e, test_df.iloc[i])\n",
    "    test_predict.append(result)\n",
    "    \n",
    "print(np.array(test_labels))\n",
    "print(np.array(test_predict))\n",
    "d_accuracy = round(accuracy_score(test_labels, test_predict), 4)\n",
    "print(\"d_accuracy\", d_accuracy)"
   ]
  },
  {
   "cell_type": "markdown",
   "metadata": {},
   "source": [
    "accuracy when **Circle** function is used for classifying the instances in the test set"
   ]
  },
  {
   "cell_type": "code",
   "execution_count": 13,
   "metadata": {},
   "outputs": [
    {
     "name": "stdout",
     "output_type": "stream",
     "text": [
      "[1 0 1 0 1 0 0 0 0 0 0 1 0 0 0 0 0 1 1 1 1 1 1 1 1 0 0 0 0 1]\n",
      "[1 0 1 0 1 1 0 0 0 0 1 1 0 1 0 0 1 1 1 1 1 1 1 1 1 0 0 1 0 1]\n",
      "d_accuracy 0.8333\n"
     ]
    }
   ],
   "source": [
    "test_predict = []\n",
    "for i in range(len(test_df)):\n",
    "    result = classify_instance_byCircle(min_p, max_p, min_e, max_e, test_df.iloc[i])\n",
    "    test_predict.append(result)\n",
    "    \n",
    "print(np.array(test_labels))\n",
    "print(np.array(test_predict))\n",
    "d_accuracy = round(accuracy_score(test_labels, test_predict), 4)\n",
    "print(\"d_accuracy\", d_accuracy)"
   ]
  },
  {
   "cell_type": "markdown",
   "metadata": {},
   "source": [
    "accuracy when **Ellipsoid** function is used for classifying the instances in the test set"
   ]
  },
  {
   "cell_type": "code",
   "execution_count": 14,
   "metadata": {},
   "outputs": [
    {
     "name": "stdout",
     "output_type": "stream",
     "text": [
      "[1 0 1 0 1 0 0 0 0 0 0 1 0 0 0 0 0 1 1 1 1 1 1 1 1 0 0 0 0 1]\n",
      "[1 0 0 0 1 1 0 0 0 0 0 0 0 0 0 0 0 1 1 1 1 1 1 1 1 0 0 1 0 1]\n",
      "d_accuracy 0.8667\n"
     ]
    }
   ],
   "source": [
    "min_p, max_p, min_e, max_e = getRange_familyCar(my_df)\n",
    "test_predict = []\n",
    "for i in range(len(test_df)):\n",
    "    result = classify_instance_byEllipsoid(min_p, max_p, min_e, max_e, test_df.iloc[i])\n",
    "    test_predict.append(result)\n",
    "    \n",
    "print(np.array(test_labels))\n",
    "print(np.array(test_predict))\n",
    "d_accuracy = round(accuracy_score(test_labels, test_predict), 4)\n",
    "print(\"d_accuracy\", d_accuracy)"
   ]
  }
 ],
 "metadata": {
  "@webio": {
   "lastCommId": null,
   "lastKernelId": null
  },
  "kernelspec": {
   "display_name": "Python 3",
   "language": "python",
   "name": "python3"
  },
  "language_info": {
   "codemirror_mode": {
    "name": "ipython",
    "version": 3
   },
   "file_extension": ".py",
   "mimetype": "text/x-python",
   "name": "python",
   "nbconvert_exporter": "python",
   "pygments_lexer": "ipython3",
   "version": "3.7.3"
  }
 },
 "nbformat": 4,
 "nbformat_minor": 2
}
