{
 "cells": [
  {
   "cell_type": "markdown",
   "metadata": {},
   "source": [
    "# Compelete Linkage Clustering"
   ]
  },
  {
   "cell_type": "code",
   "execution_count": 1,
   "metadata": {},
   "outputs": [],
   "source": [
    "import numpy as np\n",
    "import sys\n",
    "import math"
   ]
  },
  {
   "cell_type": "code",
   "execution_count": 2,
   "metadata": {},
   "outputs": [],
   "source": [
    "X = np.array([[0,0],\n",
    "    [2,0],\n",
    "    [5,0],\n",
    "    [0,4],    \n",
    "    [4,4]])"
   ]
  },
  {
   "cell_type": "markdown",
   "metadata": {},
   "source": [
    "### Manhatan Distance "
   ]
  },
  {
   "cell_type": "code",
   "execution_count": 3,
   "metadata": {},
   "outputs": [],
   "source": [
    "def max_manhatan_distance(cluster1 , cluster2):\n",
    "    max_distance = 0\n",
    "    for point1 in cluster1:\n",
    "        for point2 in cluster2 :\n",
    "            distance = abs(point1[0]-point2[0]) + abs(point1[1]-point2[1])\n",
    "            if distance > max_distance:\n",
    "                max_distance = distance\n",
    "    return max_distance"
   ]
  },
  {
   "cell_type": "code",
   "execution_count": 4,
   "metadata": {},
   "outputs": [],
   "source": [
    "def compelete_linkage_clustering(dataset , iteration= sys.maxsize):\n",
    "    h_cluster = {index:[list(np.round(item , 3))] for index, item in enumerate(dataset)}\n",
    "    for i in range(iteration):\n",
    "        h_distance = {\n",
    "         (i,j):max_manhatan_distance(val1, val2)\n",
    "         for i , val1 in h_cluster.items()\n",
    "         for j , val2 in h_cluster.items()\n",
    "         if i != j\n",
    "        }\n",
    "        \n",
    "        h_distance = sorted(h_distance.items() , key = lambda x : x[1])\n",
    "     \n",
    "        merged_cluster_index = min(h_distance[0][0])\n",
    "        for index in h_distance[0][0]:\n",
    "            if index != merged_cluster_index:\n",
    "                for item in h_cluster[index]:\n",
    "                    h_cluster[merged_cluster_index].append(item)\n",
    "                del h_cluster[index]\n",
    "        \n",
    "        print(\"\\nIteration \" , i+1)\n",
    "        for key, value in h_cluster.items():            \n",
    "            print(value)\n",
    "            \n",
    "        if len(h_cluster)== 1:\n",
    "            print(\"\\nCompelete in iteration \", i+1)\n",
    "            break;\n",
    " \n"
   ]
  },
  {
   "cell_type": "code",
   "execution_count": 5,
   "metadata": {},
   "outputs": [
    {
     "name": "stdout",
     "output_type": "stream",
     "text": [
      "\n",
      "Iteration  1\n",
      "[[0, 0], [2, 0]]\n",
      "[[5, 0]]\n",
      "[[0, 4]]\n",
      "[[4, 4]]\n",
      "\n",
      "Iteration  2\n",
      "[[0, 0], [2, 0]]\n",
      "[[5, 0]]\n",
      "[[0, 4], [4, 4]]\n",
      "\n",
      "Iteration  3\n",
      "[[0, 0], [2, 0], [5, 0]]\n",
      "[[0, 4], [4, 4]]\n",
      "\n",
      "Iteration  4\n",
      "[[0, 0], [2, 0], [5, 0], [0, 4], [4, 4]]\n",
      "\n",
      "Compelete in iteration  4\n"
     ]
    }
   ],
   "source": [
    "compelete_linkage_clustering(X,4)"
   ]
  },
  {
   "cell_type": "code",
   "execution_count": 7,
   "metadata": {},
   "outputs": [],
   "source": [
    "from sklearn.metrics.pairwise import pairwise_distances\n",
    "initial_distance = pairwise_distances(X ,metric = 'manhattan')"
   ]
  },
  {
   "cell_type": "code",
   "execution_count": 9,
   "metadata": {},
   "outputs": [
    {
     "data": {
      "image/png": "[encoded data removed]",
      "text/plain": [
       "<Figure size 432x288 with 1 Axes>"
      ]
     },
     "metadata": {
      "needs_background": "light"
     },
     "output_type": "display_data"
    }
   ],
   "source": [
    "from scipy.cluster.hierarchy import linkage,dendrogram\n",
    "import matplotlib.pyplot as plt\n",
    "#'cityblock' = 'manhattan'\n",
    "link_c = linkage(X, method='complete' , metric='cityblock')\n",
    "\n",
    "plt.figure()\n",
    "dendrogram(link_c , p= 5)\n",
    "plt.show()"
   ]
  },
  {
   "cell_type": "code",
   "execution_count": null,
   "metadata": {},
   "outputs": [],
   "source": []
  }
 ],
 "metadata": {
  "kernelspec": {
   "display_name": "Python 3",
   "language": "python",
   "name": "python3"
  },
  "language_info": {
   "codemirror_mode": {
    "name": "ipython",
    "version": 3
   },
   "file_extension": ".py",
   "mimetype": "text/x-python",
   "name": "python",
   "nbconvert_exporter": "python",
   "pygments_lexer": "ipython3",
   "version": "3.7.3"
  }
 },
 "nbformat": 4,
 "nbformat_minor": 2
}
