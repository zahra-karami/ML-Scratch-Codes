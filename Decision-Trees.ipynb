{
 "cells": [
  {
   "cell_type": "markdown",
   "metadata": {},
   "source": [
    "## Decision Trees"
   ]
  },
  {
   "cell_type": "markdown",
   "metadata": {},
   "source": [
    "\n",
    "1. Generate a toy classification problem dataset for the cartesian coordinate system with two classes (K=2).\n",
    "    - Pick two random class center coordinates.\n",
    "    - For each cluster center, generate 20 data points (samples) by adding random noise values to class center values.\n",
    "    - Store dataset X along with ground truth label values for each sample.\n",
    "    - Shuffle the dataset (randomize the order of samples in your dataset).\n",
    "    - Separate your dataset X into training and test sets\n",
    "\n",
    "2. Implement the classification decision tree algoritm and generate a tree using your training set.\n",
    "\n",
    "3. Report performance on prediction of training set labels."
   ]
  },
  {
   "cell_type": "code",
   "execution_count": 1,
   "metadata": {},
   "outputs": [],
   "source": [
    "import random\n",
    "import numpy as np\n",
    "import matplotlib.pyplot as plt"
   ]
  },
  {
   "cell_type": "code",
   "execution_count": 2,
   "metadata": {},
   "outputs": [],
   "source": [
    "def node_entropy(x):\n",
    "    ent = 0\n",
    "    for i in range(2):\n",
    "        class_count=len(x[x[:,2]==int(i)])\n",
    "        try:\n",
    "            pmi = class_count/x.shape[0]\n",
    "        except:\n",
    "            pmi = 0\n",
    "        if pmi != 0:\n",
    "            ent -= (pmi)*np.log2(pmi)\n",
    "        else:\n",
    "            pass\n",
    "    return ent"
   ]
  },
  {
   "cell_type": "code",
   "execution_count": 3,
   "metadata": {},
   "outputs": [],
   "source": [
    "def split_entropy(x, val, i):\n",
    "    lmp = 0\n",
    "    left_branch = x[x[:, i] <= val]\n",
    "    right_branch = x[x[:, i] > val]\n",
    "    lmp += (left_branch.shape[0]/x.shape[0]) * node_entropy(left_branch)\n",
    "    lmp += (right_branch.shape[0]/x.shape[0]) * node_entropy(right_branch)\n",
    "    return lmp"
   ]
  },
  {
   "cell_type": "code",
   "execution_count": 4,
   "metadata": {},
   "outputs": [],
   "source": [
    "def split_attribute(x):\n",
    "    minent = np.inf\n",
    "    for i in range(2):\n",
    "        for val in x[:, int(i)]:\n",
    "            ent = split_entropy(x, val, i)\n",
    "            if ent < minent:\n",
    "                minent = ent\n",
    "                best_f = i\n",
    "                threshold = val\n",
    "    return (best_f, threshold)"
   ]
  },
  {
   "cell_type": "code",
   "execution_count": 5,
   "metadata": {},
   "outputs": [],
   "source": [
    "def generate_tree(x, theta=0):\n",
    "    if node_entropy(x) <= theta:\n",
    "        entropy = node_entropy(x)\n",
    "        majority_class = 1 if x[x[:,2] == 1].shape[0] > x[x[:,2] == 2].shape[0] else 0\n",
    "\n",
    "        return (majority_class, entropy, None)\n",
    "    else:\n",
    "        i, xi = split_attribute(x) # attribute idx and split entropy\n",
    "\n",
    "        Tree = {}\n",
    "\n",
    "        x_left = x[x[:, int(i)] <= xi]\n",
    "        x_right = x[x[:, int(i)] > xi]\n",
    "\n",
    "        Tree[(i, xi, True)] = generate_tree(x_left) # Left branch\n",
    "        Tree[(i, xi, False)] = generate_tree(x_right) # Right branch\n",
    "\n",
    "        return Tree"
   ]
  },
  {
   "cell_type": "code",
   "execution_count": 6,
   "metadata": {},
   "outputs": [],
   "source": [
    "def classify_point(Tree, point):\n",
    "\n",
    "    if type(Tree) != dict:\n",
    "        return Tree\n",
    "    else:\n",
    "        for d in Tree:\n",
    "            i, x, binary = d\n",
    "\n",
    "        if point[int(i)] <= x:\n",
    "            return classify_point(Tree[(i, x, True)], point)\n",
    "        else:\n",
    "            return classify_point(Tree[(i, x, False)], point)"
   ]
  },
  {
   "cell_type": "code",
   "execution_count": 7,
   "metadata": {},
   "outputs": [],
   "source": [
    "def check_accuracy(Tree, X_check):\n",
    "    right = 0\n",
    "\n",
    "    total = 0\n",
    "    for i in X_check:\n",
    "        #print('Data',i[0], i[1], i[2])\n",
    "        #print('Tree ',classify_point(Tree, i[:2]))\n",
    "        if classify_point(Tree, i[:2])[0] == i[2]: \n",
    "            right += 1\n",
    "        total +=1\n",
    "    return right/total"
   ]
  },
  {
   "cell_type": "markdown",
   "metadata": {},
   "source": [
    "### Generate data"
   ]
  },
  {
   "cell_type": "code",
   "execution_count": 8,
   "metadata": {},
   "outputs": [
    {
     "data": {
      "image/png": "[encoded data removed]",
      "text/plain": [
       "<Figure size 432x288 with 1 Axes>"
      ]
     },
     "metadata": {
      "needs_background": "light"
     },
     "output_type": "display_data"
    },
    {
     "name": "stdout",
     "output_type": "stream",
     "text": [
      "[[-0.229  1.356  1.   ]\n",
      " [ 6.118  4.36   0.   ]\n",
      " [ 0.574  0.395  1.   ]\n",
      " [ 2.18   1.138  1.   ]\n",
      " [ 0.372  0.311  1.   ]\n",
      " [ 5.191  4.749  0.   ]\n",
      " [ 3.634  4.278  0.   ]\n",
      " [ 1.719  2.36   1.   ]\n",
      " [ 4.502  6.155  0.   ]\n",
      " [ 4.807  5.209  0.   ]\n",
      " [ 0.605  0.125  1.   ]\n",
      " [ 1.769  2.36   1.   ]\n",
      " [ 6.178  4.537  0.   ]\n",
      " [ 3.453  3.902  0.   ]\n",
      " [ 2.612  0.823  1.   ]\n",
      " [ 0.201  0.947  1.   ]\n",
      " [ 4.172  4.405  0.   ]\n",
      " [ 4.878  4.57   0.   ]\n",
      " [ 1.218  1.753  1.   ]\n",
      " [ 1.779 -0.367  1.   ]\n",
      " [ 4.351  4.598  0.   ]\n",
      " [ 2.332  1.74   1.   ]\n",
      " [-0.437  0.291  1.   ]\n",
      " [ 0.685  1.681  1.   ]\n",
      " [ 5.009  6.557  0.   ]\n",
      " [ 4.862  4.827  0.   ]\n",
      " [ 0.649  0.764  1.   ]\n",
      " [ 2.258  1.101  1.   ]]\n"
     ]
    }
   ],
   "source": [
    "C1 = (5, 5)\n",
    "C2 = (1,1)\n",
    "\n",
    "X1 = np.round(np.array([np.array([C1[0]]*20)+np.random.normal(0,1,20),\n",
    "               np.array([C1[1]]*20)+np.random.normal(0,1,20),\n",
    "               [0]*20]),3).T\n",
    "\n",
    "X2 = np.round(np.array([np.array([C2[0]]*20)+np.random.normal(0,1,20),\n",
    "              np.array([C2[1]]*20)+np.random.normal(0,1,20),\n",
    "              [1]*20]),3).T\n",
    "\n",
    "X = np.append(X1, X2, axis=0)\n",
    "\n",
    "np.random.shuffle(X)\n",
    "\n",
    "plt.plot(X1[:,0], X1[:,1], 'ro')\n",
    "plt.plot(X2[:,0], X2[:,1], 'bo')\n",
    "plt.show()\n",
    "\n",
    "\n",
    "X_train = X[:int(40*0.7),:]\n",
    "X_test = X[int(40*0.7):,:]\n",
    "\n",
    "print(X_train)"
   ]
  },
  {
   "cell_type": "markdown",
   "metadata": {},
   "source": [
    "### Generate tree"
   ]
  },
  {
   "cell_type": "code",
   "execution_count": 9,
   "metadata": {},
   "outputs": [
    {
     "name": "stdout",
     "output_type": "stream",
     "text": [
      "{(0, 2.612, True): (1, 0.0, None), (0, 2.612, False): (0, 0.0, None)}\n",
      "Train accuracy = 1.0\n",
      "Test Accuracy = 1.0\n"
     ]
    }
   ],
   "source": [
    "Tree = generate_tree(X_train)\n",
    "print(Tree)\n",
    "print(\"Train accuracy = {}\".format(check_accuracy(Tree, X_train)))\n",
    "print(\"Test Accuracy = {}\".format(check_accuracy(Tree, X_test)))\n",
    "\n",
    "plt.show()"
   ]
  },
  {
   "cell_type": "code",
   "execution_count": null,
   "metadata": {},
   "outputs": [],
   "source": []
  }
 ],
 "metadata": {
  "@webio": {
   "lastCommId": null,
   "lastKernelId": null
  },
  "kernelspec": {
   "display_name": "Python 3",
   "language": "python",
   "name": "python3"
  },
  "language_info": {
   "codemirror_mode": {
    "name": "ipython",
    "version": 3
   },
   "file_extension": ".py",
   "mimetype": "text/x-python",
   "name": "python",
   "nbconvert_exporter": "python",
   "pygments_lexer": "ipython3",
   "version": "3.7.3"
  }
 },
 "nbformat": 4,
 "nbformat_minor": 2
}
