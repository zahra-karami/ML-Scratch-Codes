{
 "cells": [
  {
   "cell_type": "markdown",
   "metadata": {},
   "source": [
    "# Dimensionality Reduction: LDA Multi Cluster"
   ]
  },
  {
   "cell_type": "markdown",
   "metadata": {},
   "source": [
    "### K>2"
   ]
  },
  {
   "cell_type": "code",
   "execution_count": 1,
   "metadata": {},
   "outputs": [],
   "source": [
    "import pandas as pd\n",
    "import matplotlib.pyplot as plt\n",
    "import numpy as np"
   ]
  },
  {
   "cell_type": "code",
   "execution_count": 2,
   "metadata": {},
   "outputs": [
    {
     "data": {
      "text/html": [
       "<div>\n",
       "<style scoped>\n",
       "    .dataframe tbody tr th:only-of-type {\n",
       "        vertical-align: middle;\n",
       "    }\n",
       "\n",
       "    .dataframe tbody tr th {\n",
       "        vertical-align: top;\n",
       "    }\n",
       "\n",
       "    .dataframe thead th {\n",
       "        text-align: right;\n",
       "    }\n",
       "</style>\n",
       "<table border=\"1\" class=\"dataframe\">\n",
       "  <thead>\n",
       "    <tr style=\"text-align: right;\">\n",
       "      <th></th>\n",
       "      <th>sepal length</th>\n",
       "      <th>sepal width</th>\n",
       "      <th>petal length</th>\n",
       "      <th>petal width</th>\n",
       "      <th>target</th>\n",
       "    </tr>\n",
       "  </thead>\n",
       "  <tbody>\n",
       "    <tr>\n",
       "      <th>0</th>\n",
       "      <td>5.1</td>\n",
       "      <td>3.5</td>\n",
       "      <td>1.4</td>\n",
       "      <td>0.2</td>\n",
       "      <td>Iris-setosa</td>\n",
       "    </tr>\n",
       "    <tr>\n",
       "      <th>1</th>\n",
       "      <td>4.9</td>\n",
       "      <td>3.0</td>\n",
       "      <td>1.4</td>\n",
       "      <td>0.2</td>\n",
       "      <td>Iris-setosa</td>\n",
       "    </tr>\n",
       "    <tr>\n",
       "      <th>2</th>\n",
       "      <td>4.7</td>\n",
       "      <td>3.2</td>\n",
       "      <td>1.3</td>\n",
       "      <td>0.2</td>\n",
       "      <td>Iris-setosa</td>\n",
       "    </tr>\n",
       "    <tr>\n",
       "      <th>3</th>\n",
       "      <td>4.6</td>\n",
       "      <td>3.1</td>\n",
       "      <td>1.5</td>\n",
       "      <td>0.2</td>\n",
       "      <td>Iris-setosa</td>\n",
       "    </tr>\n",
       "    <tr>\n",
       "      <th>4</th>\n",
       "      <td>5.0</td>\n",
       "      <td>3.6</td>\n",
       "      <td>1.4</td>\n",
       "      <td>0.2</td>\n",
       "      <td>Iris-setosa</td>\n",
       "    </tr>\n",
       "  </tbody>\n",
       "</table>\n",
       "</div>"
      ],
      "text/plain": [
       "   sepal length  sepal width  petal length  petal width       target\n",
       "0           5.1          3.5           1.4          0.2  Iris-setosa\n",
       "1           4.9          3.0           1.4          0.2  Iris-setosa\n",
       "2           4.7          3.2           1.3          0.2  Iris-setosa\n",
       "3           4.6          3.1           1.5          0.2  Iris-setosa\n",
       "4           5.0          3.6           1.4          0.2  Iris-setosa"
      ]
     },
     "execution_count": 2,
     "metadata": {},
     "output_type": "execute_result"
    }
   ],
   "source": [
    "iris_df= pd.read_csv(\"iris.data\", names=['sepal length','sepal width','petal length','petal width','target'])\n",
    "iris_df.head()"
   ]
  },
  {
   "cell_type": "code",
   "execution_count": 3,
   "metadata": {},
   "outputs": [
    {
     "name": "stderr",
     "output_type": "stream",
     "text": [
      "C:\\ProgramData\\Anaconda3\\lib\\site-packages\\sklearn\\preprocessing\\label.py:219: DataConversionWarning: A column-vector y was passed when a 1d array was expected. Please change the shape of y to (n_samples, ), for example using ravel().\n",
      "  y = column_or_1d(y, warn=True)\n",
      "C:\\ProgramData\\Anaconda3\\lib\\site-packages\\sklearn\\preprocessing\\label.py:252: DataConversionWarning: A column-vector y was passed when a 1d array was expected. Please change the shape of y to (n_samples, ), for example using ravel().\n",
      "  y = column_or_1d(y, warn=True)\n"
     ]
    }
   ],
   "source": [
    "features = ['sepal length', 'sepal width', 'petal length', 'petal width']\n",
    "\n",
    "X = iris_df.loc[:, features].values\n",
    "\n",
    "#encoding the y(target column) \n",
    "from sklearn.preprocessing import LabelEncoder\n",
    "y = iris_df.loc[:,['target']].values\n",
    "enc = LabelEncoder()\n",
    "label_encoder = enc.fit(y)\n",
    "y = label_encoder.transform(y)+1 "
   ]
  },
  {
   "cell_type": "markdown",
   "metadata": {},
   "source": [
    "### Calculating mean vectors for each class"
   ]
  },
  {
   "cell_type": "code",
   "execution_count": 4,
   "metadata": {},
   "outputs": [
    {
     "name": "stdout",
     "output_type": "stream",
     "text": [
      "Mean Class 1: [5.006 3.418 1.464 0.244]\n",
      "Mean Class 2: [5.936 2.77  4.26  1.326]\n",
      "Mean Class 3: [6.588 2.974 5.552 2.026]\n"
     ]
    }
   ],
   "source": [
    "\n",
    "mean_vec=[]\n",
    "class_dict={1: 'Iris-setosa', 2: 'Iris-versicolor', 3:'Iris-virginica' }\n",
    "for cl in range(len(class_dict)):\n",
    "    mean_vec.append(np.mean(X[y==cl+1], axis=0))\n",
    "    print(f'Mean Class {cl+1}: {mean_vec[cl]}')"
   ]
  },
  {
   "cell_type": "markdown",
   "metadata": {},
   "source": [
    "### Calculating SW (with-in class scatter matrix)"
   ]
  },
  {
   "cell_type": "code",
   "execution_count": 5,
   "metadata": {},
   "outputs": [
    {
     "name": "stdout",
     "output_type": "stream",
     "text": [
      "within-class Scatter Matrix:\n",
      " [[38.9562 13.683  24.614   5.6556]\n",
      " [13.683  17.035   8.12    4.9132]\n",
      " [24.614   8.12   27.22    6.2536]\n",
      " [ 5.6556  4.9132  6.2536  6.1756]]\n"
     ]
    }
   ],
   "source": [
    "# calculating within class scatter matrix SW\n",
    "\n",
    "n_f=X.shape[1]\n",
    "S_W = np.zeros((n_f,n_f))\n",
    "for cl,mv in enumerate(mean_vec):\n",
    "    class_sc_mat = np.zeros((n_f,n_f))                  # scatter matrix for every class\n",
    "    for row in X[y == cl+1]:\n",
    "        row, mv = row.reshape(n_f,1), mv.reshape(n_f,1) # make column vectors\n",
    "        class_sc_mat += (row-mv).dot((row-mv).T)\n",
    "    S_W += class_sc_mat                             # sum class scatter matrices\n",
    "print('within-class Scatter Matrix:\\n', S_W)"
   ]
  },
  {
   "cell_type": "markdown",
   "metadata": {},
   "source": [
    "### Calculating SB (between-class scattter matrix)"
   ]
  },
  {
   "cell_type": "code",
   "execution_count": 6,
   "metadata": {},
   "outputs": [
    {
     "name": "stdout",
     "output_type": "stream",
     "text": [
      "between-class Scatter Matrix:\n",
      " [[ 63.21213333 -19.534      165.16466667  71.36306667]\n",
      " [-19.534       10.9776     -56.0552     -22.4924    ]\n",
      " [165.16466667 -56.0552     436.64373333 186.90813333]\n",
      " [ 71.36306667 -22.4924     186.90813333  80.60413333]]\n"
     ]
    }
   ],
   "source": [
    "#calculating within class scatter matrix SB\n",
    "\n",
    "overall_mean=np.mean(X, axis=0)\n",
    "S_B = np.zeros((n_f,n_f))\n",
    "for i,mv in enumerate(mean_vec):  \n",
    "    n = X[y==i+1,:].shape[0]\n",
    "    mv = mv.reshape(n_f,1) # make column vector\n",
    "    overall_mean = overall_mean.reshape(n_f,1) # make column vector\n",
    "    S_B += n * (mv - overall_mean).dot((mv - overall_mean).T)\n",
    "\n",
    "print('between-class Scatter Matrix:\\n', S_B)"
   ]
  },
  {
   "cell_type": "markdown",
   "metadata": {},
   "source": [
    "### Computing the LDA projection"
   ]
  },
  {
   "cell_type": "code",
   "execution_count": 7,
   "metadata": {},
   "outputs": [
    {
     "name": "stdout",
     "output_type": "stream",
     "text": [
      "[32.272  0.278 -0.     0.   ] \n",
      "\n",
      "[[ 0.205 -0.009 -0.637  0.295]\n",
      " [ 0.387 -0.589 -0.023 -0.416]\n",
      " [-0.546  0.254 -0.09  -0.473]\n",
      " [-0.714 -0.767  0.765  0.718]]\n"
     ]
    }
   ],
   "source": [
    "S_W_inv=np.linalg.inv(S_W)\n",
    "dot=np.dot(S_W_inv, S_B)\n",
    "eigval, eigvec= np.linalg.eig(dot)\n",
    "print(np.round(eigval, 3), '\\n')\n",
    "print(np.round(eigvec, 3))"
   ]
  },
  {
   "cell_type": "markdown",
   "metadata": {},
   "source": [
    "### Calculate eigenvalue, eigenvector"
   ]
  },
  {
   "cell_type": "code",
   "execution_count": 8,
   "metadata": {},
   "outputs": [
    {
     "name": "stdout",
     "output_type": "stream",
     "text": [
      "32.271957799729805\n",
      "[ 0.205  0.387 -0.546 -0.714] \n",
      "\n",
      "0.2775668638400484\n",
      "[-0.009 -0.589  0.254 -0.767] \n",
      "\n",
      "5.010867534969835e-15\n",
      "[ 0.295 -0.416 -0.473  0.718] \n",
      "\n",
      "3.9051190268434875e-15\n",
      "[-0.637 -0.023 -0.09   0.765] \n",
      "\n"
     ]
    }
   ],
   "source": [
    "# Make a list of (eigenvalue, eigenvector) tuples and sort them in decreasing order\n",
    "eig_pairs = [(np.abs(eigval[i]), eigvec[:,i]) for i in range(len(eigval))]\n",
    "eig_pairs = sorted(eig_pairs, key=lambda k: k[0], reverse=True)\n",
    "\n",
    "for i in eig_pairs:\n",
    "    print(i[0])\n",
    "    print(np.around(i[1], 3), '\\n')"
   ]
  },
  {
   "cell_type": "markdown",
   "metadata": {},
   "source": [
    "In order to choose top K eigenvector we look at variance explained <br/>\n",
    "The result show that first eigenvector explains 99% and if we reduce to 1d we don't lose much info<br/>\n",
    "As second one also has a non-zero variance, we can choose 2 dimensions "
   ]
  },
  {
   "cell_type": "code",
   "execution_count": 9,
   "metadata": {},
   "outputs": [
    {
     "name": "stdout",
     "output_type": "stream",
     "text": [
      "Variance Explained:\n",
      "\n",
      "eigenvalue 1: 99.15%\n",
      "eigenvalue 2: 0.85%\n",
      "eigenvalue 3: 0.0%\n",
      "eigenvalue 4: 0.0%\n"
     ]
    }
   ],
   "source": [
    "print('Variance Explained:\\n')\n",
    "eigval_sum = sum(eigval)\n",
    "for i,j in enumerate(eig_pairs):\n",
    "    var_exp=(j[0]/eigval_sum)\n",
    "    print(f'eigenvalue {i+1}: {np.round(var_exp*100, 2)}%')"
   ]
  },
  {
   "cell_type": "markdown",
   "metadata": {},
   "source": [
    "### Calculate W"
   ]
  },
  {
   "cell_type": "code",
   "execution_count": 10,
   "metadata": {},
   "outputs": [
    {
     "data": {
      "text/plain": [
       "array([[ 0.20490976, -0.00898234],\n",
       "       [ 0.38714331, -0.58899857],\n",
       "       [-0.54648218,  0.25428655],\n",
       "       [-0.71378517, -0.76703217]])"
      ]
     },
     "execution_count": 10,
     "metadata": {},
     "output_type": "execute_result"
    }
   ],
   "source": [
    "W = np.hstack((eig_pairs[0][1].reshape(n_f,1), eig_pairs[1][1].reshape(n_f,1)))\n",
    "W"
   ]
  },
  {
   "cell_type": "markdown",
   "metadata": {},
   "source": [
    "### Project dataset in dimensions"
   ]
  },
  {
   "cell_type": "code",
   "execution_count": 11,
   "metadata": {},
   "outputs": [
    {
     "data": {
      "image/png": "[encoded data removed]",
      "text/plain": [
       "<Figure size 432x288 with 1 Axes>"
      ]
     },
     "metadata": {
      "needs_background": "light"
     },
     "output_type": "display_data"
    }
   ],
   "source": [
    "Z=[]\n",
    "for x in X:\n",
    "    Z.append(np.dot(W.T, x))\n",
    "Z_df=pd.DataFrame(data=Z, columns=['LDA1', 'LDA2'])\n",
    "plt.scatter(Z_df['LDA1'], Z_df['LDA2']) ; "
   ]
  },
  {
   "cell_type": "code",
   "execution_count": null,
   "metadata": {},
   "outputs": [],
   "source": []
  }
 ],
 "metadata": {
  "kernelspec": {
   "display_name": "Python 3",
   "language": "python",
   "name": "python3"
  },
  "language_info": {
   "codemirror_mode": {
    "name": "ipython",
    "version": 3
   },
   "file_extension": ".py",
   "mimetype": "text/x-python",
   "name": "python",
   "nbconvert_exporter": "python",
   "pygments_lexer": "ipython3",
   "version": "3.7.3"
  }
 },
 "nbformat": 4,
 "nbformat_minor": 2
}
