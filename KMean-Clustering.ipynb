{
 "cells": [
  {
   "cell_type": "markdown",
   "metadata": {},
   "source": [
    "# K-Mean Clustring"
   ]
  },
  {
   "cell_type": "code",
   "execution_count": 1,
   "metadata": {},
   "outputs": [],
   "source": [
    "import numpy as  np\n",
    "import math\n",
    "import sys\n",
    "from sklearn.datasets.samples_generator import make_blobs"
   ]
  },
  {
   "cell_type": "markdown",
   "metadata": {},
   "source": [
    "#### Generate data"
   ]
  },
  {
   "cell_type": "code",
   "execution_count": 2,
   "metadata": {},
   "outputs": [],
   "source": [
    "X, data_labels = make_blobs(n_samples=300, centers=3, cluster_std=0.50, random_state=0)\n",
    "\n",
    "c1 = [-1.0, 3.0]\n",
    "c2 = [1.0, 5.0]\n",
    "c3 = [2.0, 1.5]\n",
    "cc = [c1, c2, c3]\n"
   ]
  },
  {
   "cell_type": "markdown",
   "metadata": {},
   "source": [
    "### Caluclate ditance base on euclidean distance formula"
   ]
  },
  {
   "cell_type": "code",
   "execution_count": 3,
   "metadata": {},
   "outputs": [],
   "source": [
    "def cal_distance_centers(datapoint , centers):\n",
    "    min_distance = sys.maxsize\n",
    "    min_center = None\n",
    "    \n",
    "    for center_id  , c in enumerate(centers):\n",
    "        distance = math.sqrt(math.pow(datapoint[0] - c[0],2) + math.pow(datapoint[1] - c[1],2))\n",
    "        if distance < min_distance :\n",
    "            min_distance = distance\n",
    "            min_center = center_id\n",
    "    \n",
    "    return min_center"
   ]
  },
  {
   "cell_type": "code",
   "execution_count": 4,
   "metadata": {},
   "outputs": [
    {
     "name": "stdout",
     "output_type": "stream",
     "text": [
      "Converge in teration 2!\n",
      "Center 1:[-1.55168191  2.87619177]\n",
      "Center 2:[0.96706547 4.38346703]\n",
      "Center 3:[1.96887266 0.84517309]\n"
     ]
    }
   ],
   "source": [
    "def KMean_clustering(dataset, centers , iteration ):\n",
    "    adjusted_centers = centers\n",
    "    clusters = { k:[] for k in range(len(centers))}\n",
    "    for i in range(iteration):\n",
    "        for x in dataset:\n",
    "            close_center =  cal_distance_centers(x, adjusted_centers)\n",
    "            clusters[close_center].append(x)\n",
    "        \n",
    "        new_centers = [[0,0]] * len(adjusted_centers)\n",
    "        for index , cen in enumerate(adjusted_centers):\n",
    "               new_centers[index] = np.mean( clusters[index], axis = 0)\n",
    "                \n",
    "        diff = abs(np.array(adjusted_centers)).sum() - abs(np.array(new_centers)).sum()\n",
    "        \n",
    "        if diff > 0:\n",
    "            adjusted_centers = new_centers\n",
    "        else :\n",
    "            print(\"Converge in teration {}!\".format(i+1))\n",
    "            break;\n",
    "        \n",
    "            \n",
    "    return adjusted_centers\n",
    "\n",
    "\n",
    "\n",
    "new_cc = KMean_clustering(X, cc , 5 )\n",
    "for i , center in enumerate(new_cc):\n",
    "    print(\"Center {}:{}\".format(i+1, center))"
   ]
  },
  {
   "cell_type": "code",
   "execution_count": 6,
   "metadata": {},
   "outputs": [
    {
     "data": {
      "image/png": "[encoded data removed]",
      "text/plain": [
       "<Figure size 432x288 with 1 Axes>"
      ]
     },
     "metadata": {
      "needs_background": "light"
     },
     "output_type": "display_data"
    }
   ],
   "source": [
    "import matplotlib.pyplot as plt\n",
    "plt.scatter(X[:,0], X[:,1], s= 50)\n",
    "plt.scatter(np.array(cc)[:,0], np.array(cc)[:,1], s= 100 , c ='black' , alpha = 0.5)\n",
    "plt.scatter(np.array(new_cc)[:,0], np.array(new_cc)[:,1], s= 100 , c ='red' , alpha = 0.5)\n",
    "plt.show()"
   ]
  },
  {
   "cell_type": "code",
   "execution_count": null,
   "metadata": {},
   "outputs": [],
   "source": []
  }
 ],
 "metadata": {
  "kernelspec": {
   "display_name": "Python 3",
   "language": "python",
   "name": "python3"
  },
  "language_info": {
   "codemirror_mode": {
    "name": "ipython",
    "version": 3
   },
   "file_extension": ".py",
   "mimetype": "text/x-python",
   "name": "python",
   "nbconvert_exporter": "python",
   "pygments_lexer": "ipython3",
   "version": "3.7.3"
  }
 },
 "nbformat": 4,
 "nbformat_minor": 2
}
