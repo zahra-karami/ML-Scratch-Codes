{
 "cells": [
  {
   "cell_type": "markdown",
   "metadata": {},
   "source": [
    "# Supervised Learning"
   ]
  },
  {
   "cell_type": "markdown",
   "metadata": {},
   "source": [
    "## Regression formulas"
   ]
  },
  {
   "cell_type": "code",
   "execution_count": 1,
   "metadata": {},
   "outputs": [],
   "source": [
    "import numpy as np\n",
    "import pandas as pd\n",
    "import math"
   ]
  },
  {
   "cell_type": "code",
   "execution_count": 2,
   "metadata": {},
   "outputs": [],
   "source": [
    "# plotting\n",
    "import matplotlib.pyplot as plt\n",
    "from sklearn.linear_model import LinearRegression\n"
   ]
  },
  {
   "cell_type": "markdown",
   "metadata": {},
   "source": [
    "### Generate linear data points"
   ]
  },
  {
   "cell_type": "markdown",
   "metadata": {},
   "source": [
    "A function that generates data points according to the equation (r = mx + b + noise) where m=2.25, b = 6, and noise$\\sim N(0,1.21)$"
   ]
  },
  {
   "cell_type": "code",
   "execution_count": 3,
   "metadata": {},
   "outputs": [
    {
     "data": {
      "image/png": "[encoded data removed]",
      "text/plain": [
       "<Figure size 432x288 with 1 Axes>"
      ]
     },
     "metadata": {
      "needs_background": "light"
     },
     "output_type": "display_data"
    }
   ],
   "source": [
    "n_points = 50\n",
    "\n",
    "b = 6 # intercept\n",
    "m = 2.25 # slope\n",
    "noise_mean = 0.0\n",
    "noise_var = 1.21\n",
    "\n",
    "X = []\n",
    "r = []\n",
    "for i in range(n_points):\n",
    "    rnd_num = np.random.uniform(-2, 2)\n",
    "    X.append(rnd_num)\n",
    "    r.append(b + m*rnd_num + np.random.normal(loc=noise_mean, scale=noise_var))\n",
    "\n",
    "plt.scatter(X, r, marker='o');"
   ]
  },
  {
   "cell_type": "markdown",
   "metadata": {},
   "source": [
    "### Calculate $w_0$ and **$w_1$** values in linear regression equation $r = w_0+w_1*x$"
   ]
  },
  {
   "cell_type": "code",
   "execution_count": 4,
   "metadata": {},
   "outputs": [],
   "source": [
    "def calculate_w0_w1(X , r):\n",
    "    N = len(r)\n",
    "    x_mean = np.mean(X)\n",
    "    r_mean = np.mean(r)\n",
    "\n",
    "    first_term = np.dot(X , r) - (x_mean * r_mean * N)\n",
    "\n",
    "    second_term = sum([ i**2 for i in X]) - (N * math.pow(x_mean , 2))\n",
    "    w1 = first_term / second_term\n",
    "    w0 = r_mean - w1 * x_mean\n",
    "    \n",
    "    return np.round(w0,5) , np.round(w1,5)"
   ]
  },
  {
   "cell_type": "code",
   "execution_count": 5,
   "metadata": {},
   "outputs": [],
   "source": [
    "def predict(X , w0 , w1):\n",
    "    r = [ w1 * x + w0 for x in X]\n",
    "    return r"
   ]
  },
  {
   "cell_type": "markdown",
   "metadata": {},
   "source": [
    "### Root Mean Square Error (RMSE)"
   ]
  },
  {
   "cell_type": "markdown",
   "metadata": {},
   "source": [
    "Given a set of actual labels (gLabels) and predicted labels (gPredictedLabels) and the function that returns RMSE"
   ]
  },
  {
   "cell_type": "code",
   "execution_count": 6,
   "metadata": {},
   "outputs": [],
   "source": [
    "def getRMSE(gLabels, gPredictedLabels):\n",
    "    N = len(gPredictedLabels)\n",
    "    total = 0\n",
    "    for i in range(N):\n",
    "        total +=  math.pow((gPredictedLabels[i] - gLabels[i]) , 2)\n",
    "    \n",
    "    RMSE = math.sqrt(total) / N    \n",
    "    return np.round(RMSE,3)"
   ]
  },
  {
   "cell_type": "markdown",
   "metadata": {},
   "source": [
    "### Report the error with the calculated $w_1$ and $w_0$ by using RMSE"
   ]
  },
  {
   "cell_type": "code",
   "execution_count": 7,
   "metadata": {},
   "outputs": [
    {
     "name": "stdout",
     "output_type": "stream",
     "text": [
      "W0:5.95123 ,W1:2.15804\n",
      "RMSE:  0.198\n"
     ]
    }
   ],
   "source": [
    "# Report the error with the calculated w_1 and w_0\n",
    "w0, w1 = calculate_w0_w1(X , r)\n",
    "predicted_r = predict(X, w0 , w1)\n",
    "RMSE = getRMSE(r , predicted_r)\n",
    "\n",
    "print(\"W0:{} ,W1:{}\".format(w0, w1))\n",
    "print(\"RMSE: \" , RMSE)"
   ]
  },
  {
   "cell_type": "markdown",
   "metadata": {},
   "source": [
    "### Plot the data points along with the fitted line.\n",
    "Using mathplotlib library's plot function"
   ]
  },
  {
   "cell_type": "code",
   "execution_count": 8,
   "metadata": {},
   "outputs": [
    {
     "data": {
      "image/png": "[encoded data removed]",
      "text/plain": [
       "<Figure size 432x288 with 1 Axes>"
      ]
     },
     "metadata": {
      "needs_background": "light"
     },
     "output_type": "display_data"
    }
   ],
   "source": [
    "# Plot the data points along with the fitted line\n",
    "plt.scatter(X,r)\n",
    "plt.plot(X,predicted_r, c ='red' )\n",
    "plt.show()"
   ]
  }
 ],
 "metadata": {
  "@webio": {
   "lastCommId": null,
   "lastKernelId": null
  },
  "kernelspec": {
   "display_name": "Python 3",
   "language": "python",
   "name": "python3"
  },
  "language_info": {
   "codemirror_mode": {
    "name": "ipython",
    "version": 3
   },
   "file_extension": ".py",
   "mimetype": "text/x-python",
   "name": "python",
   "nbconvert_exporter": "python",
   "pygments_lexer": "ipython3",
   "version": "3.7.3"
  }
 },
 "nbformat": 4,
 "nbformat_minor": 2
}
