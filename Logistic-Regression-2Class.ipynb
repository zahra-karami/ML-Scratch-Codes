{
 "cells": [
  {
   "cell_type": "code",
   "execution_count": 1,
   "metadata": {},
   "outputs": [],
   "source": [
    "import numpy as np\n",
    "import pandas as pd\n",
    "import matplotlib.pyplot as plt"
   ]
  },
  {
   "cell_type": "code",
   "execution_count": 2,
   "metadata": {},
   "outputs": [],
   "source": [
    "import sklearn.datasets as datasets\n",
    "from sklearn.model_selection import train_test_split\n",
    "from sklearn.metrics import accuracy_score\n",
    "from sklearn.linear_model import LogisticRegression\n",
    "\n",
    "import warnings\n",
    "warnings.filterwarnings('ignore')"
   ]
  },
  {
   "cell_type": "markdown",
   "metadata": {},
   "source": [
    "### **Iris Dataset (Sample Dataset)**\n",
    "Popular classification dataset with 3 classes; setosa, virginica and versicolor.\n",
    "\\\n",
    "<a href='https://en.wikipedia.org/wiki/Iris_flower_data_set' >https://en.wikipedia.org/wiki/Iris_flower_data_set</a>\n"
   ]
  },
  {
   "cell_type": "code",
   "execution_count": 3,
   "metadata": {},
   "outputs": [
    {
     "data": {
      "text/html": [
       "<div>\n",
       "<style scoped>\n",
       "    .dataframe tbody tr th:only-of-type {\n",
       "        vertical-align: middle;\n",
       "    }\n",
       "\n",
       "    .dataframe tbody tr th {\n",
       "        vertical-align: top;\n",
       "    }\n",
       "\n",
       "    .dataframe thead th {\n",
       "        text-align: right;\n",
       "    }\n",
       "</style>\n",
       "<table border=\"1\" class=\"dataframe\">\n",
       "  <thead>\n",
       "    <tr style=\"text-align: right;\">\n",
       "      <th></th>\n",
       "      <th>sepal length (cm)</th>\n",
       "      <th>sepal width (cm)</th>\n",
       "      <th>petal length (cm)</th>\n",
       "      <th>petal width (cm)</th>\n",
       "      <th>target</th>\n",
       "    </tr>\n",
       "  </thead>\n",
       "  <tbody>\n",
       "    <tr>\n",
       "      <th>0</th>\n",
       "      <td>5.1</td>\n",
       "      <td>3.5</td>\n",
       "      <td>1.4</td>\n",
       "      <td>0.2</td>\n",
       "      <td>0.0</td>\n",
       "    </tr>\n",
       "    <tr>\n",
       "      <th>1</th>\n",
       "      <td>4.9</td>\n",
       "      <td>3.0</td>\n",
       "      <td>1.4</td>\n",
       "      <td>0.2</td>\n",
       "      <td>0.0</td>\n",
       "    </tr>\n",
       "    <tr>\n",
       "      <th>2</th>\n",
       "      <td>4.7</td>\n",
       "      <td>3.2</td>\n",
       "      <td>1.3</td>\n",
       "      <td>0.2</td>\n",
       "      <td>0.0</td>\n",
       "    </tr>\n",
       "    <tr>\n",
       "      <th>3</th>\n",
       "      <td>4.6</td>\n",
       "      <td>3.1</td>\n",
       "      <td>1.5</td>\n",
       "      <td>0.2</td>\n",
       "      <td>0.0</td>\n",
       "    </tr>\n",
       "    <tr>\n",
       "      <th>4</th>\n",
       "      <td>5.0</td>\n",
       "      <td>3.6</td>\n",
       "      <td>1.4</td>\n",
       "      <td>0.2</td>\n",
       "      <td>0.0</td>\n",
       "    </tr>\n",
       "  </tbody>\n",
       "</table>\n",
       "</div>"
      ],
      "text/plain": [
       "   sepal length (cm)  sepal width (cm)  petal length (cm)  petal width (cm)  \\\n",
       "0                5.1               3.5                1.4               0.2   \n",
       "1                4.9               3.0                1.4               0.2   \n",
       "2                4.7               3.2                1.3               0.2   \n",
       "3                4.6               3.1                1.5               0.2   \n",
       "4                5.0               3.6                1.4               0.2   \n",
       "\n",
       "   target  \n",
       "0     0.0  \n",
       "1     0.0  \n",
       "2     0.0  \n",
       "3     0.0  \n",
       "4     0.0  "
      ]
     },
     "execution_count": 3,
     "metadata": {},
     "output_type": "execute_result"
    }
   ],
   "source": [
    "iris_data = datasets.load_iris(return_X_y=False)\n",
    "df_iris = pd.DataFrame(data= np.c_[iris_data['data'], iris_data['target']], columns= iris_data['feature_names'] + ['target'])\n",
    "df_iris.head()"
   ]
  },
  {
   "cell_type": "code",
   "execution_count": 4,
   "metadata": {},
   "outputs": [
    {
     "name": "stdout",
     "output_type": "stream",
     "text": [
      "Sample for bivariate logstic regression: [0. 1.]\n"
     ]
    }
   ],
   "source": [
    "# choose two of the classes;  'virginica' , 'setosa' ; class 1 and class 2\n",
    "df_sample = df_iris[df_iris[\"target\"] != 2]\n",
    "\n",
    "print(\"Sample for bivariate logstic regression:\", df_sample[\"target\"].unique())"
   ]
  },
  {
   "cell_type": "code",
   "execution_count": 5,
   "metadata": {},
   "outputs": [],
   "source": [
    "def prepare_dataset(dataset):\n",
    "    X = dataset[['sepal length (cm)', 'sepal width (cm)', 'petal length (cm)','petal width (cm)']].to_numpy()\n",
    "    y = dataset[['target']].to_numpy().ravel()\n",
    "\n",
    "    X_train, X_test, y_train, y_test = train_test_split(X, y, test_size=0.25, random_state=0)\n",
    "    print(\"Number of train set :\" , len(X_train))\n",
    "    print(\"Number of test set :\", len(X_test))\n",
    "\n",
    "    return  X_train, X_test, y_train, y_test"
   ]
  },
  {
   "cell_type": "code",
   "execution_count": 6,
   "metadata": {},
   "outputs": [],
   "source": [
    "def logistic_regression_predict(x , w, b):  \n",
    "    pred = None\n",
    "    z = np.dot(x , w) + b \n",
    "    prob = sigmoid(z)\n",
    "    if prob > 0.5: \n",
    "        pred = 1\n",
    "    else :\n",
    "        pred = 0\n",
    "    return pred "
   ]
  },
  {
   "cell_type": "code",
   "execution_count": 7,
   "metadata": {},
   "outputs": [],
   "source": [
    "def sigmoid(z):\n",
    "    return 1 / (1 + np.exp(-z)) \n",
    "    \n",
    "    \n",
    "def logistic_discrimination_2D( X , y , max_iter = 1000 , alpha = 0.05 , epsilon=0.0001):\n",
    "    # number of features + b\n",
    "    d = X.shape[1] + 1\n",
    "    \n",
    "    # number of data points\n",
    "    m = X.shape[0]\n",
    "    \n",
    "    # prepare a array with X and add x0 and equal it to one\n",
    "    _X = np.c_[np.ones(m), X]\n",
    "    \n",
    "    W = np.random.uniform(-0.01,0.01,d)\n",
    "    \n",
    "    pre_grad = np.zeros(d)\n",
    "    costs = []\n",
    "    for i in range(max_iter):\n",
    "        \n",
    "        z = sigmoid(np.dot(_X , W))\n",
    "\n",
    "\n",
    "        cost = sum( -y * np.log(z)  - (1 - y) * np.log(1-z))\n",
    "        costs.append(cost)\n",
    "\n",
    "        #calulate the gradient\n",
    "        grad = -1 / m  * np.dot((z - y) , _X)\n",
    "\n",
    "        # Adjust parameters w and b \n",
    "        W = W + (alpha * grad)\n",
    "        \n",
    "        if(np.amax(abs(pre_grad - grad)) <= epsilon):\n",
    "            print(\"Converage in epoch:\" , i)\n",
    "            break;\n",
    "            \n",
    "        pre_grad = grad\n",
    "    \n",
    "    return W[1:] , W[0], costs\n",
    "    "
   ]
  },
  {
   "cell_type": "code",
   "execution_count": 8,
   "metadata": {},
   "outputs": [
    {
     "name": "stdout",
     "output_type": "stream",
     "text": [
      "Number of train set : 75\n",
      "Number of test set : 25\n",
      "Converage in epoch: 348\n",
      "Number of Iteration:  349\n"
     ]
    },
    {
     "data": {
      "image/png": "[encoded data removed]",
      "text/plain": [
       "<Figure size 432x288 with 1 Axes>"
      ]
     },
     "metadata": {
      "needs_background": "light"
     },
     "output_type": "display_data"
    },
    {
     "name": "stdout",
     "output_type": "stream",
     "text": [
      "Accuracy on Test set: 100.0\n",
      "Accuracy of LogisticRegression library:  100.0\n"
     ]
    }
   ],
   "source": [
    "X_train, X_test, y_train, y_test = prepare_dataset(df_sample)\n",
    "\n",
    "K = len(df_sample[\"target\"].unique())\n",
    "w , b , costs = logistic_discrimination_2D ( X_train, y_train )\n",
    "\n",
    "iteration_n = len(costs)\n",
    "print(\"Number of Iteration: \" , iteration_n)\n",
    "plt.plot(range(iteration_n) , costs)\n",
    "plt.xlabel(\"Num of Iterations\")\n",
    "plt.show()\n",
    "\n",
    "y_pred = [logistic_regression_predict(X_test[i] , w , b) for i in range(len(X_test))]\n",
    "print(\"Accuracy on Test set:\", accuracy_score(y_test, y_pred) * 100)\n",
    "\n",
    "clf = LogisticRegression().fit(X_train, y_train)\n",
    "pridict_lib = clf.predict(X_test)\n",
    "print(\"Accuracy of LogisticRegression library: \", accuracy_score(y_test, pridict_lib) * 100)\n",
    "\n"
   ]
  },
  {
   "cell_type": "code",
   "execution_count": null,
   "metadata": {},
   "outputs": [],
   "source": []
  }
 ],
 "metadata": {
  "kernelspec": {
   "display_name": "Python 3",
   "language": "python",
   "name": "python3"
  },
  "language_info": {
   "codemirror_mode": {
    "name": "ipython",
    "version": 3
   },
   "file_extension": ".py",
   "mimetype": "text/x-python",
   "name": "python",
   "nbconvert_exporter": "python",
   "pygments_lexer": "ipython3",
   "version": "3.7.3"
  }
 },
 "nbformat": 4,
 "nbformat_minor": 2
}
