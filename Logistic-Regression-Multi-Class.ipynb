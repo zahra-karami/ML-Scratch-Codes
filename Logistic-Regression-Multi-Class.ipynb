{
 "cells": [
  {
   "cell_type": "code",
   "execution_count": 1,
   "metadata": {},
   "outputs": [],
   "source": [
    "import pandas as pd\n",
    "import numpy as np\n",
    "import matplotlib.pyplot as plt\n",
    "import scipy.sparse\n",
    "import sklearn.datasets as datasets\n",
    "from sklearn.model_selection import train_test_split\n",
    "from sklearn.metrics import accuracy_score\n",
    "from sklearn.linear_model import LogisticRegression\n",
    "\n",
    "import warnings\n",
    "warnings.filterwarnings('ignore')"
   ]
  },
  {
   "cell_type": "code",
   "execution_count": 2,
   "metadata": {},
   "outputs": [],
   "source": [
    "# create a function to plot cost\n",
    "def plot_cost(loss):\n",
    "    plt.figure()\n",
    "    plt.plot(np.arange(len(loss)), loss)\n",
    "    plt.xlabel(\"epochs\")\n",
    "    plt.ylabel(\"cost\")\n",
    "    plt.show()"
   ]
  },
  {
   "cell_type": "code",
   "execution_count": 3,
   "metadata": {},
   "outputs": [],
   "source": [
    "class logistic_regression(object):\n",
    "    def __init__(self, X, y , K):\n",
    "       \n",
    "        self.d = X.shape[1]\n",
    "        self.m = X.shape[0]\n",
    "        self.K = K\n",
    "        self.X = X\n",
    "        self.Y = self.oneHotIt(y)      \n",
    "        \n",
    "        #initialize random value to w and b \n",
    "        self.W =  np.random.uniform(-0.01, 0.01, (self.d, self.K))\n",
    "        self.grad = np.zeros((self.d, self.K))\n",
    "        self.costs = []\n",
    "\n",
    "    def oneHotIt(self,Y):\n",
    "        OHX = scipy.sparse.csr_matrix((np.ones(self.m), (Y, np.array(range(self.m)))))\n",
    "        OHX = np.array(OHX.todense()).T\n",
    "        return OHX\n",
    "    \n",
    "    def softmax(self, z):\n",
    "        z -= np.max(z)\n",
    "        sm = (np.exp(z).T / np.sum(np.exp(z),axis=1)).T\n",
    "        return sm\n",
    "    \n",
    "    def costFunction(self):\n",
    "        z = np.dot(self.X,self.W)\n",
    "        prob = self.softmax(z)\n",
    "        cost = (-1.) * np.sum(self.Y * np.log(prob)) \n",
    "        grad = (-1./self.m) * np.dot(self.X.T,(self.Y - prob))\n",
    "        return cost , grad\n",
    "    \n",
    "    def adap_learning_rate(self, max_iter , epochCounter , maxLR = 0.1 , minLR = 0.01):\n",
    "        #triangular cyclical learning rate\n",
    "        stepsize = max_iter /2\n",
    "        cycle = np.floor(1 + epochCounter / ( 2 * stepsize))\n",
    "        s = abs(epochCounter / stepsize - 2 * cycle + 1 )\n",
    "        lr = minLR + (maxLR - minLR) * max(0 , (1 - s ))\n",
    "        return lr\n",
    "    \n",
    "    \n",
    "    def fit(self, max_iter = 1000 , epsilon=0.00001):\n",
    "           \n",
    "        for i in range(max_iter):\n",
    "            lr = self.adap_learning_rate (max_iter , i) \n",
    "            \n",
    "            cost , grad = self.costFunction()\n",
    "            self.costs.append(cost)        \n",
    "            \n",
    "            self.W -= (lr * grad)        \n",
    "            \n",
    "            if i % 100 == 0:\n",
    "                print (\"epoch: \", str(i), \" cost: \", str(np.round(cost,2)))\n",
    "\n",
    "            if (np.amax(abs(self.grad - grad)) < epsilon):\n",
    "                print(\"Converage in epoch:\" , i)\n",
    "                break;\n",
    "\n",
    "            self.grad = grad\n",
    "\n",
    "\n",
    "    def predict(self, x):  \n",
    "        z = np.dot(x,self.W)\n",
    "        probs = self.softmax(z)    \n",
    "        r = np.argmax(probs ,axis=1)\n",
    "        return r\n",
    "\n",
    "    "
   ]
  },
  {
   "cell_type": "markdown",
   "metadata": {},
   "source": [
    "### Preparing data "
   ]
  },
  {
   "cell_type": "code",
   "execution_count": 4,
   "metadata": {},
   "outputs": [],
   "source": [
    "iris_data = datasets.load_iris(return_X_y=False)\n",
    "df_iris = pd.DataFrame(data= np.c_[iris_data['data'], iris_data['target']], columns= iris_data['feature_names'] + ['target'])\n",
    "\n",
    "X_iris = df_iris[['sepal length (cm)', 'sepal width (cm)', 'petal length (cm)','petal width (cm)']].to_numpy()\n",
    "y = df_iris[['target']].to_numpy(dtype=int).ravel()\n",
    "K = df_iris[\"target\"].unique().shape[0]\n",
    "\n",
    "N = X_iris.shape[0]\n",
    "# number of features + b\n",
    "d = X_iris.shape[1]  + 1\n",
    "\n",
    "# prepare a data set and add x0 and equal it to one  \n",
    "X = np.ones((N , d))\n",
    "X[: , 1:d ]  = X_iris\n",
    "\n",
    "\n",
    "#spilit the train set and test set\n",
    "train_X,test_X,train_y,test_y = train_test_split(X,y,test_size=0.2,random_state=0)\n"
   ]
  },
  {
   "cell_type": "code",
   "execution_count": 5,
   "metadata": {},
   "outputs": [
    {
     "name": "stdout",
     "output_type": "stream",
     "text": [
      "epoch:  0  cost:  131.76\n",
      "epoch:  100  cost:  70.23\n",
      "epoch:  200  cost:  51.84\n",
      "epoch:  300  cost:  41.61\n",
      "epoch:  400  cost:  34.15\n",
      "epoch:  500  cost:  28.59\n",
      "epoch:  600  cost:  25.03\n",
      "epoch:  700  cost:  22.98\n",
      "epoch:  800  cost:  21.75\n",
      "Converage in epoch: 868\n"
     ]
    },
    {
     "data": {
      "image/png": "[encoded data removed]",
      "text/plain": [
       "<Figure size 432x288 with 1 Axes>"
      ]
     },
     "metadata": {
      "needs_background": "light"
     },
     "output_type": "display_data"
    }
   ],
   "source": [
    "logistic = logistic_regression(train_X, train_y, K)\n",
    "logistic.fit(max_iter = 1000 , epsilon=0.00001)\n",
    "plot_cost(logistic.costs)"
   ]
  },
  {
   "cell_type": "markdown",
   "metadata": {},
   "source": [
    "#### Report logistic discrimination weights"
   ]
  },
  {
   "cell_type": "code",
   "execution_count": 6,
   "metadata": {},
   "outputs": [
    {
     "name": "stdout",
     "output_type": "stream",
     "text": [
      "Coefficients :\n",
      "[[ 0.33495588  0.69918005  1.58538929 -2.25103274 -1.04527022]\n",
      " [ 0.46488974  0.52721499 -0.24436306 -0.02034846 -0.75715845]\n",
      " [-0.7900614  -1.22150789 -1.33637707  2.27651969  1.81499236]]\n"
     ]
    }
   ],
   "source": [
    "print(\"Coefficients :\")\n",
    "print(logistic.W.T)"
   ]
  },
  {
   "cell_type": "markdown",
   "metadata": {},
   "source": [
    "### Compate Result with LogisticRegression() Library"
   ]
  },
  {
   "cell_type": "code",
   "execution_count": null,
   "metadata": {},
   "outputs": [],
   "source": [
    "predict_train = logistic.predict(train_X)\n",
    "predict_test = logistic.predict(test_X)\n",
    "  \n",
    "print(\"Accuracy Code on Train set:\" ,  np.round(accuracy_score(train_y, predict_train) * 100, 3))\n",
    "print(\"Accuracy Code on Test set:\" ,  np.round(accuracy_score(test_y, predict_test) * 100, 3))\n",
    "print(\"\")\n",
    "clf = LogisticRegression().fit(train_X, train_y)\n",
    "predict_train_lib = clf.predict(train_X)\n",
    "predict_test_lib = clf.predict(test_X)\n",
    "\n",
    "print(\"Accuracy Library on Train set:\" , np.round(accuracy_score(train_y, predict_train_lib) * 100 , 3))\n",
    "print(\"Accuracy Library on Test set:\"  , np.round(accuracy_score(test_y, predict_test_lib) * 100 , 3))\n",
    "print(\"\")\n",
    "\n",
    "print(\"Code result :   \" , predict_test)\n",
    "print(\"Library result :\" , predict_test_lib)"
   ]
  }
 ],
 "metadata": {
  "kernelspec": {
   "display_name": "Python 3",
   "language": "python",
   "name": "python3"
  },
  "language_info": {
   "codemirror_mode": {
    "name": "ipython",
    "version": 3
   },
   "file_extension": ".py",
   "mimetype": "text/x-python",
   "name": "python",
   "nbconvert_exporter": "python",
   "pygments_lexer": "ipython3",
   "version": "3.7.3"
  }
 },
 "nbformat": 4,
 "nbformat_minor": 2
}
