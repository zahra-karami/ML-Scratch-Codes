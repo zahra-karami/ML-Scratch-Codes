{
 "cells": [
  {
   "cell_type": "markdown",
   "metadata": {},
   "source": [
    "# Assignment 1"
   ]
  },
  {
   "cell_type": "code",
   "execution_count": 1,
   "metadata": {
    "colab": {},
    "colab_type": "code",
    "id": "BVSvv4H3_NvH"
   },
   "outputs": [],
   "source": [
    "#!pip install sklearn\n",
    "# !pip install pandas\n",
    "# !pip install numpy\n",
    "# !pip install scipy"
   ]
  },
  {
   "cell_type": "code",
   "execution_count": 2,
   "metadata": {
    "colab": {},
    "colab_type": "code",
    "id": "4WXfbDEpNtlQ"
   },
   "outputs": [],
   "source": [
    "import pandas as pd\n",
    "import numpy as np\n",
    "import matplotlib.pyplot as plt\n",
    "import scipy.sparse\n",
    "from sklearn.model_selection import train_test_split\n",
    "from sklearn.metrics import accuracy_score\n",
    "from sklearn.linear_model import LogisticRegression\n",
    "\n",
    "import warnings\n",
    "warnings.filterwarnings('ignore')"
   ]
  },
  {
   "cell_type": "code",
   "execution_count": 3,
   "metadata": {
    "colab": {},
    "colab_type": "code",
    "id": "x9wqYPyOBM5r"
   },
   "outputs": [],
   "source": [
    "# create a function to plot cost\n",
    "def plot_cost(loss):\n",
    "    plt.figure()\n",
    "    plt.plot(np.arange(len(loss)), loss)\n",
    "    plt.xlabel(\"epochs\")\n",
    "    plt.ylabel(\"cost\")\n",
    "    plt.show()"
   ]
  },
  {
   "cell_type": "markdown",
   "metadata": {},
   "source": [
    "### Implement the backpropagation algorithm for multiple classes"
   ]
  },
  {
   "cell_type": "code",
   "execution_count": 4,
   "metadata": {
    "colab": {
     "base_uri": "https://localhost:8080/",
     "height": 221
    },
    "colab_type": "code",
    "id": "bqS2v3uzOR6v",
    "outputId": "6982114d-6e56-4e88-b06f-7ae58fd88261"
   },
   "outputs": [
    {
     "data": {
      "text/html": [
       "<div>\n",
       "<style scoped>\n",
       "    .dataframe tbody tr th:only-of-type {\n",
       "        vertical-align: middle;\n",
       "    }\n",
       "\n",
       "    .dataframe tbody tr th {\n",
       "        vertical-align: top;\n",
       "    }\n",
       "\n",
       "    .dataframe thead th {\n",
       "        text-align: right;\n",
       "    }\n",
       "</style>\n",
       "<table border=\"1\" class=\"dataframe\">\n",
       "  <thead>\n",
       "    <tr style=\"text-align: right;\">\n",
       "      <th></th>\n",
       "      <th>fixed acidity</th>\n",
       "      <th>volatile acidity</th>\n",
       "      <th>citric acid</th>\n",
       "      <th>residual sugar</th>\n",
       "      <th>chlorides</th>\n",
       "      <th>free sulfur dioxide</th>\n",
       "      <th>total sulfur dioxide</th>\n",
       "      <th>density</th>\n",
       "      <th>pH</th>\n",
       "      <th>sulphates</th>\n",
       "      <th>alcohol</th>\n",
       "      <th>quality_class</th>\n",
       "    </tr>\n",
       "  </thead>\n",
       "  <tbody>\n",
       "    <tr>\n",
       "      <th>0</th>\n",
       "      <td>0.478873</td>\n",
       "      <td>0.236364</td>\n",
       "      <td>0.253012</td>\n",
       "      <td>0.025836</td>\n",
       "      <td>0.141618</td>\n",
       "      <td>0.141869</td>\n",
       "      <td>0.277273</td>\n",
       "      <td>0.955745</td>\n",
       "      <td>0.908377</td>\n",
       "      <td>0.444444</td>\n",
       "      <td>0.739437</td>\n",
       "      <td>3</td>\n",
       "    </tr>\n",
       "    <tr>\n",
       "      <th>1</th>\n",
       "      <td>0.366197</td>\n",
       "      <td>0.140909</td>\n",
       "      <td>0.198795</td>\n",
       "      <td>0.024316</td>\n",
       "      <td>0.080925</td>\n",
       "      <td>0.044983</td>\n",
       "      <td>0.134091</td>\n",
       "      <td>0.952617</td>\n",
       "      <td>0.863874</td>\n",
       "      <td>0.777778</td>\n",
       "      <td>0.838028</td>\n",
       "      <td>3</td>\n",
       "    </tr>\n",
       "    <tr>\n",
       "      <th>2</th>\n",
       "      <td>0.556338</td>\n",
       "      <td>0.463636</td>\n",
       "      <td>0.204819</td>\n",
       "      <td>0.039514</td>\n",
       "      <td>0.141618</td>\n",
       "      <td>0.044983</td>\n",
       "      <td>0.306818</td>\n",
       "      <td>0.956082</td>\n",
       "      <td>0.808901</td>\n",
       "      <td>0.472222</td>\n",
       "      <td>0.704225</td>\n",
       "      <td>1</td>\n",
       "    </tr>\n",
       "    <tr>\n",
       "      <th>3</th>\n",
       "      <td>0.450704</td>\n",
       "      <td>0.254545</td>\n",
       "      <td>0.246988</td>\n",
       "      <td>0.103343</td>\n",
       "      <td>0.130058</td>\n",
       "      <td>0.211073</td>\n",
       "      <td>0.490909</td>\n",
       "      <td>0.957863</td>\n",
       "      <td>0.808901</td>\n",
       "      <td>0.425926</td>\n",
       "      <td>0.661972</td>\n",
       "      <td>1</td>\n",
       "    </tr>\n",
       "    <tr>\n",
       "      <th>4</th>\n",
       "      <td>0.485915</td>\n",
       "      <td>0.136364</td>\n",
       "      <td>0.168675</td>\n",
       "      <td>0.066869</td>\n",
       "      <td>0.083815</td>\n",
       "      <td>0.048443</td>\n",
       "      <td>0.243182</td>\n",
       "      <td>0.956197</td>\n",
       "      <td>0.848168</td>\n",
       "      <td>0.425926</td>\n",
       "      <td>0.732394</td>\n",
       "      <td>3</td>\n",
       "    </tr>\n",
       "  </tbody>\n",
       "</table>\n",
       "</div>"
      ],
      "text/plain": [
       "   fixed acidity  volatile acidity  citric acid  residual sugar  chlorides  \\\n",
       "0       0.478873          0.236364     0.253012        0.025836   0.141618   \n",
       "1       0.366197          0.140909     0.198795        0.024316   0.080925   \n",
       "2       0.556338          0.463636     0.204819        0.039514   0.141618   \n",
       "3       0.450704          0.254545     0.246988        0.103343   0.130058   \n",
       "4       0.485915          0.136364     0.168675        0.066869   0.083815   \n",
       "\n",
       "   free sulfur dioxide  total sulfur dioxide   density        pH  sulphates  \\\n",
       "0             0.141869              0.277273  0.955745  0.908377   0.444444   \n",
       "1             0.044983              0.134091  0.952617  0.863874   0.777778   \n",
       "2             0.044983              0.306818  0.956082  0.808901   0.472222   \n",
       "3             0.211073              0.490909  0.957863  0.808901   0.425926   \n",
       "4             0.048443              0.243182  0.956197  0.848168   0.425926   \n",
       "\n",
       "    alcohol  quality_class  \n",
       "0  0.739437              3  \n",
       "1  0.838028              3  \n",
       "2  0.704225              1  \n",
       "3  0.661972              1  \n",
       "4  0.732394              3  "
      ]
     },
     "execution_count": 4,
     "metadata": {},
     "output_type": "execute_result"
    }
   ],
   "source": [
    "#read data from file\n",
    "df = pd.read_csv('wine_quality_white_modified.csv')\n",
    "df.head()"
   ]
  },
  {
   "cell_type": "code",
   "execution_count": 5,
   "metadata": {
    "colab": {},
    "colab_type": "code",
    "id": "EvgSZ8n1_YBV"
   },
   "outputs": [],
   "source": [
    "#convert data to numpy array\n",
    "data = df.to_numpy()\n",
    "\n",
    "#shuffle the data set\n",
    "np.random.shuffle(data)\n"
   ]
  },
  {
   "cell_type": "code",
   "execution_count": 6,
   "metadata": {
    "colab": {},
    "colab_type": "code",
    "id": "NShcJEf9a40h"
   },
   "outputs": [],
   "source": [
    "# seperate X and y\n",
    "X = data[: , :11]\n",
    "y = data[: , 11].astype(int)\n",
    "\n",
    "#split data to train set and test set\n",
    "X_train, X_test, y_train, y_test = train_test_split(X, y, test_size=0.2, random_state=0)\n"
   ]
  },
  {
   "cell_type": "code",
   "execution_count": 7,
   "metadata": {
    "colab": {},
    "colab_type": "code",
    "id": "VlM0VdXM5y85"
   },
   "outputs": [],
   "source": [
    "# neural network class\n",
    "class nueral_network(object):\n",
    "\n",
    "    #initial function\n",
    "    def __init__(self, X, Y, ginHidden):\n",
    "        self.loss = []\n",
    "        self.m = X.shape[0]\n",
    "\n",
    "        self.Y = self.oneHotIt(Y)\n",
    "        self.input = X\n",
    "        self.output = np.zeros(self.Y.shape)\n",
    "\n",
    "        self.inputsize = X.shape[1]\n",
    "        self.outputsize = self.Y.shape[1]\n",
    "        self.hiddensize = ginHidden\n",
    "        \n",
    "        self.W1 = np.random.uniform (-0.1, 0.1, (self.inputsize , self.hiddensize))\n",
    "        self.W2 = np.random.uniform (-0.1, 0.1, (self.hiddensize , self.outputsize))\n",
    "\n",
    "        self.b1 = np.zeros((1 , self.hiddensize))\n",
    "        self.b2 = np.zeros((1 , self.outputsize))\n",
    "\n",
    "\n",
    "    def oneHotIt(self , y):\n",
    "        OHX = scipy.sparse.csr_matrix((np.ones(self.m), (y , np.array(range(self.m)))))\n",
    "        OHX = np.array(OHX.todense()).T\n",
    "        return OHX\n",
    "    \n",
    "    def adapt_learning_rate(self, loss, max_iter, epochCounter,  maxLR = 0.2, minLR = 0.005):  \n",
    "        average_loss = np.round(np.mean(self.loss)  if (len(self.loss) < 4) else np.mean(self.loss[-3:]) ,5)      \n",
    "        current_loss = np.round(loss,5)  \n",
    "         \n",
    "        if average_loss >= current_loss :  \n",
    "            alpha  =   min(maxLR , self.lr)\n",
    "        else:  \n",
    "            beta = 0.3\n",
    "            self.lr -= beta * self.lr \n",
    "            \n",
    "\n",
    "    def softmax(self,z):\n",
    "        z -= np.max(z)\n",
    "        sm = (np.exp(z).T / np.sum(np.exp(z),axis=1)).T\n",
    "        return sm\n",
    "    \n",
    "\n",
    "    def tanh(self, x):\n",
    "        t = (np.exp(x)-np.exp(-x)) / (np.exp(x)+np.exp(-x))\n",
    "        return t\n",
    "    \n",
    "\n",
    "    def dTanh(self,x):\n",
    "        t = np.tanh(x)\n",
    "        dt = 1 - t**2\n",
    "        return dt\n",
    "    \n",
    "\n",
    "    def nloss(self):\n",
    "        loss =  -np.mean(self.Y * np.log(self.output + 1e-8))\n",
    "        return loss\n",
    "    \n",
    "\n",
    "    def forward(self,X):\n",
    "        self.Z1 = np.dot(X, self.W1) + self.b1\n",
    "        self.A1 = np.tanh(self.Z1)\n",
    "\n",
    "        self.Z2 = np.dot(self.A1, self.W2) + self.b2\n",
    "        self.output = self.softmax(self.Z2)\n",
    "        return self.output\n",
    "    \n",
    "\n",
    "    def backward(self , i):\n",
    "        d_output = self.output - self.Y  \n",
    "\n",
    "        d_W2 = 1./ self.m * np.dot(self.A1.T , d_output)\n",
    "        d_b2 = 1./ self.m * np.sum(d_output, axis=0, keepdims=True) \n",
    "        d_A1 = np.dot(d_output , self.W2.T)\n",
    "\n",
    "        d_Z1 = d_A1 * self.dTanh(self.Z1)\n",
    "        d_W1 = 1. / self.m * np.dot(self.input.T , d_Z1)\n",
    "        d_b1 = 1. / self.m * np.sum(d_Z1, axis=0, keepdims=True)      \n",
    "\n",
    "        self.W1 -=  self.lr * d_W1\n",
    "        self.b1 -=  self.lr * d_b1\n",
    "        self.W2 -=  self.lr * d_W2\n",
    "        self.b2 -=  self.lr * d_b2\n",
    "\n",
    "          \n",
    "    def train(self, max_iter = 1000 , init_lr = 0.5):\n",
    "\n",
    "        self.lr = init_lr\n",
    "        for i in range(0, max_iter):\n",
    "            self.output = self.forward(self.input)\n",
    "            loss = self.nloss()\n",
    "            self.loss.append(loss)\n",
    "            self.adapt_learning_rate(loss , max_iter , i )\n",
    "            self.backward(i)\n",
    "            #if i % 100 == 0:\n",
    "                #print (\"Cost after iteration %i: %f by learning %f\" %(i, loss , self.lr ))   \n",
    "                \n",
    "\n",
    "    def predict(self, X):\n",
    "        probs = self.forward(X)\n",
    "        r = np.argmax(probs ,axis=1)     \n",
    "        return r"
   ]
  },
  {
   "cell_type": "markdown",
   "metadata": {},
   "source": [
    "### Result with different configs"
   ]
  },
  {
   "cell_type": "code",
   "execution_count": 8,
   "metadata": {},
   "outputs": [],
   "source": [
    "def run_nural_network (ginHidden , init_lr  , max_iter = 1000):\n",
    "    network = nueral_network(X_train, y_train, ginHidden)\n",
    "    network.train(max_iter  , init_lr )\n",
    "    predict_train = network.predict(X_train)\n",
    "    predict_test = network.predict(X_test)\n",
    "    print(\"Number of hiddent units: %i, intitial learing rate: %f \" % (ginHidden, init_lr))\n",
    "    print(\"Accuracy Train Set :\" , accuracy_score(y_train, predict_train) * 100)\n",
    "    print(\"Accuracy Test Set :\" , accuracy_score(y_test, predict_test) * 100)\n",
    "    plot_cost(network.loss)"
   ]
  },
  {
   "cell_type": "code",
   "execution_count": 9,
   "metadata": {
    "colab": {
     "base_uri": "https://localhost:8080/",
     "height": 483
    },
    "colab_type": "code",
    "id": "xTqAaTOdj3vr",
    "outputId": "c0d8e1be-4064-4b17-b2c7-9cef1c2246c3"
   },
   "outputs": [
    {
     "name": "stdout",
     "output_type": "stream",
     "text": [
      "Number of hiddent units: 100, intitial learing rate: 0.500000 \n",
      "Accuracy Train Set : 48.78472222222222\n",
      "Accuracy Test Set : 48.61111111111111\n"
     ]
    },
    {
     "data": {
      "image/png": "[encoded data removed]",
      "text/plain": [
       "<Figure size 432x288 with 1 Axes>"
      ]
     },
     "metadata": {
      "needs_background": "light"
     },
     "output_type": "display_data"
    }
   ],
   "source": [
    "run_nural_network(ginHidden = 100, init_lr = 0.5 , max_iter = 1000 )"
   ]
  },
  {
   "cell_type": "code",
   "execution_count": 10,
   "metadata": {
    "colab": {
     "base_uri": "https://localhost:8080/",
     "height": 486
    },
    "colab_type": "code",
    "id": "uFbZsGawkGm5",
    "outputId": "6549f5f7-0e0a-433a-ec3e-167d72ba262c"
   },
   "outputs": [
    {
     "name": "stdout",
     "output_type": "stream",
     "text": [
      "Number of hiddent units: 50, intitial learing rate: 0.050000 \n",
      "Accuracy Train Set : 45.13888888888889\n",
      "Accuracy Test Set : 38.19444444444444\n"
     ]
    },
    {
     "data": {
      "image/png": "[encoded data removed]",
      "text/plain": [
       "<Figure size 432x288 with 1 Axes>"
      ]
     },
     "metadata": {
      "needs_background": "light"
     },
     "output_type": "display_data"
    }
   ],
   "source": [
    "run_nural_network(ginHidden = 50, init_lr = 0.05 , max_iter = 1000 )"
   ]
  },
  {
   "cell_type": "code",
   "execution_count": 11,
   "metadata": {
    "colab": {
     "base_uri": "https://localhost:8080/",
     "height": 483
    },
    "colab_type": "code",
    "id": "icaJf5C1kQaP",
    "outputId": "a2f0113a-1aee-4d40-f958-bc5cfd5c74b4"
   },
   "outputs": [
    {
     "name": "stdout",
     "output_type": "stream",
     "text": [
      "Number of hiddent units: 50, intitial learing rate: 0.005000 \n",
      "Accuracy Train Set : 32.46527777777778\n",
      "Accuracy Test Set : 27.77777777777778\n"
     ]
    },
    {
     "data": {
      "image/png": "[encoded data removed]",
      "text/plain": [
       "<Figure size 432x288 with 1 Axes>"
      ]
     },
     "metadata": {
      "needs_background": "light"
     },
     "output_type": "display_data"
    }
   ],
   "source": [
    "run_nural_network(ginHidden = 50, init_lr = 0.005 , max_iter = 1000 )"
   ]
  },
  {
   "cell_type": "code",
   "execution_count": 12,
   "metadata": {
    "colab": {
     "base_uri": "https://localhost:8080/",
     "height": 51
    },
    "colab_type": "code",
    "id": "1LdbzscAYPhE",
    "outputId": "f73589e9-b77f-473c-cbe0-628f425d9682"
   },
   "outputs": [
    {
     "name": "stdout",
     "output_type": "stream",
     "text": [
      "Accuracy train set: 50.34722222222222\n",
      "Accuracy Test set: 47.91666666666667\n"
     ]
    }
   ],
   "source": [
    "from sklearn.neural_network import MLPClassifier\n",
    "mlp = MLPClassifier(solver='adam',learning_rate_init=0.0005, learning_rate='adaptive' ,activation='tanh' ,max_iter=1000,random_state=42)\n",
    "mlp.fit(X_train,y_train)\n",
    "\n",
    "\n",
    "p_train = mlp.predict(X_train)\n",
    "p_test = mlp.predict(X_test)\n",
    "\n",
    "print(\"Accuracy train set:\" , accuracy_score(y_train, p_train) * 100)\n",
    "print(\"Accuracy Test set:\" , accuracy_score(y_test, p_test) * 100)\n"
   ]
  },
  {
   "cell_type": "markdown",
   "metadata": {},
   "source": [
    "### Using the GridSearchCV to find fit value for parameter of MLPClassifier library"
   ]
  },
  {
   "cell_type": "code",
   "execution_count": null,
   "metadata": {
    "colab": {},
    "colab_type": "code",
    "id": "oE3FFRHMlo3l"
   },
   "outputs": [],
   "source": [
    "from sklearn import svm, datasets\n",
    "from sklearn.model_selection import GridSearchCV\n",
    "parameters = {'max_iter': [1000 , 2000], \n",
    "              'activation' : ['tanh','relu'],              \n",
    "              'learning_rate_init':[0.0005, 0.005 , 0.1 , 0.2], \n",
    "              'random_state':[9,10,11,12,13,14]}\n",
    "\n",
    "clf = GridSearchCV(MLPClassifier(), parameters, n_jobs=-1)\n",
    "clf.fit(X_train, y_train)\n",
    "print(\"Optimized Parameters: \",clf.best_params_)\n",
    "\n",
    "result_test = clf.predict(X_test)\n",
    "result_train = clf.predict(X_train)\n",
    "print(\"Accuracy on Train set:\" , clf.score(X_train, result_train))\n",
    "print(\"Accuracy on Test set:\" ,  clf.score(y_test, result_test))"
   ]
  },
  {
   "cell_type": "code",
   "execution_count": null,
   "metadata": {},
   "outputs": [],
   "source": []
  }
 ],
 "metadata": {
  "accelerator": "GPU",
  "colab": {
   "collapsed_sections": [],
   "name": "Data_Mining_Assignment_1_4",
   "provenance": []
  },
  "kernelspec": {
   "display_name": "Python 3",
   "language": "python",
   "name": "python3"
  },
  "language_info": {
   "codemirror_mode": {
    "name": "ipython",
    "version": 3
   },
   "file_extension": ".py",
   "mimetype": "text/x-python",
   "name": "python",
   "nbconvert_exporter": "python",
   "pygments_lexer": "ipython3",
   "version": "3.7.3"
  }
 },
 "nbformat": 4,
 "nbformat_minor": 1
}
