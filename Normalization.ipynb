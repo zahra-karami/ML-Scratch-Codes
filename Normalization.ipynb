{
 "cells": [
  {
   "cell_type": "markdown",
   "metadata": {},
   "source": [
    "# Normalization Data"
   ]
  },
  {
   "cell_type": "markdown",
   "metadata": {},
   "source": [
    "- standard scaler magic: Standardize features by removing the mean and scaling to unit variance\n",
    "- StandardScaler() will normalize the features (each column of X, INDIVIDUALLY !!!) so that each column/feature/variable will have mean = 0 and standard deviation = 1.\n",
    ">- mean: $\\mu = \\frac{1}{n} \\sum_{i=1}^n x_i$\n",
    ">- stdev: $\\sigma = \\sqrt{\\frac{1}{n} \\sum_{i=1}^n (x_i - \\mu_i)^2}$\n",
    ">- standardization: $z = \\frac{x-\\mu}{\\sigma}$"
   ]
  },
  {
   "cell_type": "code",
   "execution_count": 3,
   "metadata": {},
   "outputs": [],
   "source": [
    "from sklearn.metrics.pairwise import euclidean_distances\n",
    "import numpy as np"
   ]
  },
  {
   "cell_type": "code",
   "execution_count": 4,
   "metadata": {},
   "outputs": [
    {
     "name": "stdout",
     "output_type": "stream",
     "text": [
      "[[  1.   2. 100.]\n",
      " [  4.   1.  75.]\n",
      " [  2.   1.  40.]]\n",
      "[[ 0.   25.2  60.02]\n",
      " [25.2   0.   35.06]\n",
      " [60.02 35.06  0.  ]]\n"
     ]
    }
   ],
   "source": [
    "X = np.array([[1.0,2.0,100.0],[4.0,1.0,75.0],[2.0,1.0,40.0]]) # float for preventing StandardScaler() varnings\n",
    "print(X)\n",
    "\n",
    "X_dis =np.around(euclidean_distances(X), 2)\n",
    "print(X_dis)"
   ]
  },
  {
   "cell_type": "code",
   "execution_count": 7,
   "metadata": {},
   "outputs": [
    {
     "name": "stdout",
     "output_type": "stream",
     "text": [
      "[[-1.  0.  1.]\n",
      " [-0. -1.  0.]\n",
      " [ 1.  1. -1.]]\n",
      "[[0.   1.73 3.  ]\n",
      " [1.73 0.   2.45]\n",
      " [3.   2.45 0.  ]]\n"
     ]
    }
   ],
   "source": [
    "from sklearn.preprocessing import StandardScaler\n",
    "\n",
    "X_norm = np.around( StandardScaler().fit_transform(X))\n",
    "print(X_norm)\n",
    "\n",
    "X_dis = np.around(euclidean_distances(X_norm) , 2)\n",
    "print(X_dis)"
   ]
  },
  {
   "cell_type": "code",
   "execution_count": null,
   "metadata": {},
   "outputs": [],
   "source": []
  }
 ],
 "metadata": {
  "kernelspec": {
   "display_name": "Python 3",
   "language": "python",
   "name": "python3"
  },
  "language_info": {
   "codemirror_mode": {
    "name": "ipython",
    "version": 3
   },
   "file_extension": ".py",
   "mimetype": "text/x-python",
   "name": "python",
   "nbconvert_exporter": "python",
   "pygments_lexer": "ipython3",
   "version": "3.7.3"
  }
 },
 "nbformat": 4,
 "nbformat_minor": 2
}
