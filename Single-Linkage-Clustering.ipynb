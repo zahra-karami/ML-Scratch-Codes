{
 "cells": [
  {
   "cell_type": "markdown",
   "metadata": {},
   "source": [
    "# Single Linkage Clustering"
   ]
  },
  {
   "cell_type": "code",
   "execution_count": 1,
   "metadata": {},
   "outputs": [],
   "source": [
    "from sklearn.datasets.samples_generator import make_blobs\n",
    "import matplotlib.pyplot as plt\n",
    "import numpy as np\n",
    "import math\n",
    "import sys\n",
    "import random"
   ]
  },
  {
   "cell_type": "code",
   "execution_count": 2,
   "metadata": {},
   "outputs": [],
   "source": [
    "X = np.array([[5,3],\n",
    "    [10,15],\n",
    "    [15,12],\n",
    "    [24,10],\n",
    "    [30,30],\n",
    "    [85,70],\n",
    "    [71,80],\n",
    "    [60,78],\n",
    "    [70,55],\n",
    "    [80,91],])\n"
   ]
  },
  {
   "cell_type": "markdown",
   "metadata": {},
   "source": [
    "### calculate distance base on Euclidean distance formula"
   ]
  },
  {
   "cell_type": "code",
   "execution_count": 3,
   "metadata": {},
   "outputs": [],
   "source": [
    "def get_euclidean_distance(cluster1,cluster2):\n",
    "            \n",
    "    min_distance = sys.maxsize\n",
    "    for  point1 in cluster1:\n",
    "        for point2 in cluster2: \n",
    "            distance = math.sqrt( math.pow(point1[0] - point2[0] , 2) + math.pow(point1[1] - point2[1] , 2)) \n",
    "            if(distance < min_distance):\n",
    "                min_distance = distance\n",
    "    return min_distance"
   ]
  },
  {
   "cell_type": "markdown",
   "metadata": {},
   "source": [
    "### hierarchical clustering with single linkage"
   ]
  },
  {
   "cell_type": "code",
   "execution_count": 4,
   "metadata": {},
   "outputs": [],
   "source": [
    "def cal_single_linkage( X , iteration):\n",
    "    h_clusters = { index: [list(np.round(val,3))] for index, val in enumerate(X)}\n",
    "\n",
    "    for i in range(iteration):   \n",
    "\n",
    "        #calculate distance of each data point to other data points where i!=j\n",
    "        hc_distance = {(i,j): get_euclidean_distance(val1, val2)\n",
    "                   for i,val1 in h_clusters.items() \n",
    "                   for j,val2 in h_clusters.items() \n",
    "                   if i != j }\n",
    "\n",
    "        hc_distance = sorted(hc_distance.items() , key = lambda k: k[1])\n",
    "\n",
    "        # arbitrarily set new cluster id\n",
    "        merged_cluster_index = min(hc_distance[0][0])\n",
    "\n",
    "        for index in hc_distance[0][0]:\n",
    "            if index != merged_cluster_index:\n",
    "                for item in h_clusters[index]:     \n",
    "                    h_clusters[merged_cluster_index].append(item)\n",
    "                del h_clusters[index]\n",
    "\n",
    "        if len(h_clusters) == 1:\n",
    "            print(\"Break in iteration \", i+1)\n",
    "            break\n",
    "        \n",
    "    for key, val in h_clusters.items():\n",
    "        if len(val) > 1:\n",
    "            print(key, val)"
   ]
  },
  {
   "cell_type": "code",
   "execution_count": 5,
   "metadata": {},
   "outputs": [
    {
     "name": "stdout",
     "output_type": "stream",
     "text": [
      "1 [[10, 15], [15, 12]]\n"
     ]
    }
   ],
   "source": [
    "cal_single_linkage(X, 1)"
   ]
  },
  {
   "cell_type": "code",
   "execution_count": 6,
   "metadata": {},
   "outputs": [
    {
     "name": "stdout",
     "output_type": "stream",
     "text": [
      "0 [[5, 3], [10, 15], [15, 12], [24, 10]]\n",
      "6 [[71, 80], [60, 78], [80, 91]]\n"
     ]
    }
   ],
   "source": [
    "cal_single_linkage(X, 5)"
   ]
  },
  {
   "cell_type": "code",
   "execution_count": 7,
   "metadata": {},
   "outputs": [
    {
     "name": "stdout",
     "output_type": "stream",
     "text": [
      "Break in iteration  9\n",
      "0 [[5, 3], [10, 15], [15, 12], [24, 10], [30, 30], [85, 70], [71, 80], [60, 78], [80, 91], [70, 55]]\n"
     ]
    }
   ],
   "source": [
    "cal_single_linkage(X, 9)"
   ]
  },
  {
   "cell_type": "markdown",
   "metadata": {},
   "source": [
    "### compare Result of scartch code with library"
   ]
  },
  {
   "cell_type": "code",
   "execution_count": 8,
   "metadata": {},
   "outputs": [],
   "source": [
    "from sklearn.metrics.pairwise import pairwise_distances\n",
    "initial_distances = pairwise_distances(X,metric='euclidean')"
   ]
  },
  {
   "cell_type": "code",
   "execution_count": 9,
   "metadata": {},
   "outputs": [
    {
     "data": {
      "image/png": "[encoded data removed]",
      "text/plain": [
       "<Figure size 432x288 with 1 Axes>"
      ]
     },
     "metadata": {
      "needs_background": "light"
     },
     "output_type": "display_data"
    }
   ],
   "source": [
    "from scipy.cluster.hierarchy import linkage, fcluster, dendrogram\n",
    "link_c = linkage(X, method='ward')\n",
    "#print(link_c)\n",
    "\n",
    "plt.figure()\n",
    "dendrogram(link_c)\n",
    "plt.xlabel('Cluster index')# (suppressed)')\n",
    "plt.ylabel('Distance')\n",
    "plt.show()"
   ]
  }
 ],
 "metadata": {
  "@webio": {
   "lastCommId": null,
   "lastKernelId": null
  },
  "kernelspec": {
   "display_name": "Python 3",
   "language": "python",
   "name": "python3"
  },
  "language_info": {
   "codemirror_mode": {
    "name": "ipython",
    "version": 3
   },
   "file_extension": ".py",
   "mimetype": "text/x-python",
   "name": "python",
   "nbconvert_exporter": "python",
   "pygments_lexer": "ipython3",
   "version": "3.7.3"
  }
 },
 "nbformat": 4,
 "nbformat_minor": 2
}
