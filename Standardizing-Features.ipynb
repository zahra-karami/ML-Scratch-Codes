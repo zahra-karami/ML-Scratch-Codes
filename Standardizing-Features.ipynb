{
 "cells": [
  {
   "cell_type": "code",
   "execution_count": 1,
   "metadata": {},
   "outputs": [],
   "source": [
    "import numpy as np\n",
    "import math\n",
    "from sklearn.preprocessing import StandardScaler"
   ]
  },
  {
   "cell_type": "code",
   "execution_count": 2,
   "metadata": {},
   "outputs": [
    {
     "name": "stdout",
     "output_type": "stream",
     "text": [
      "[[  3.   2. 100.]\n",
      " [  4.   1.  75.]\n",
      " [  2.   1.  40.]]\n"
     ]
    }
   ],
   "source": [
    "X = np.array([[3.0,2.0,100.0],[4.0,1.0,75.0],[2.0,1.0,40.0]]) # float for preventing StandardScaler() varnings\n",
    "print(X)"
   ]
  },
  {
   "cell_type": "code",
   "execution_count": 13,
   "metadata": {},
   "outputs": [],
   "source": [
    "def standardize_features(dataset):\n",
    "    result = np.zeros(dataset.shape)\n",
    "    mean = np.mean(dataset, axis = 0)        \n",
    "    temp = np.power(dataset- mean ,2)        \n",
    "    sigma = np.sqrt(temp.sum(axis = 0) / len(dataset) )    \n",
    "    result = np.round((dataset - mean) / sigma, 3)      \n",
    "\n",
    "    return result"
   ]
  },
  {
   "cell_type": "code",
   "execution_count": 14,
   "metadata": {},
   "outputs": [
    {
     "data": {
      "text/plain": [
       "array([[ 0.   ,  1.414,  1.151],\n",
       "       [ 1.225, -0.707,  0.135],\n",
       "       [-1.225, -0.707, -1.287]])"
      ]
     },
     "execution_count": 14,
     "metadata": {},
     "output_type": "execute_result"
    }
   ],
   "source": [
    "scaler_X =np.round(StandardScaler().fit_transform(X),3)\n",
    "scaler_X"
   ]
  },
  {
   "cell_type": "code",
   "execution_count": 15,
   "metadata": {},
   "outputs": [
    {
     "data": {
      "text/plain": [
       "array([[ 0.   ,  1.414,  1.151],\n",
       "       [ 1.225, -0.707,  0.135],\n",
       "       [-1.225, -0.707, -1.287]])"
      ]
     },
     "execution_count": 15,
     "metadata": {},
     "output_type": "execute_result"
    }
   ],
   "source": [
    "nex_X = standardize_features(X)\n",
    "nex_X"
   ]
  },
  {
   "cell_type": "code",
   "execution_count": null,
   "metadata": {},
   "outputs": [],
   "source": []
  }
 ],
 "metadata": {
  "kernelspec": {
   "display_name": "Python 3",
   "language": "python",
   "name": "python3"
  },
  "language_info": {
   "codemirror_mode": {
    "name": "ipython",
    "version": 3
   },
   "file_extension": ".py",
   "mimetype": "text/x-python",
   "name": "python",
   "nbconvert_exporter": "python",
   "pygments_lexer": "ipython3",
   "version": "3.7.3"
  }
 },
 "nbformat": 4,
 "nbformat_minor": 2
}
